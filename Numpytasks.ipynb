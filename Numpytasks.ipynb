{
  "cells": [
    {
      "cell_type": "markdown",
      "metadata": {
        "id": "zEWIOBsouka7"
      },
      "source": [
        "# Numpy\n",
        "\n"
      ]
    },
    {
      "cell_type": "markdown",
      "metadata": {
        "id": "u7IShaBQukbA"
      },
      "source": [
        "#### 1. Import the numpy package under the name `np` (★☆☆) \n",
        "(**hint**: import … as …)"
      ]
    },
    {
      "cell_type": "code",
      "execution_count": 3,
      "metadata": {
        "collapsed": true,
        "id": "xdLwXugiukbB"
      },
      "outputs": [],
      "source": [
        "import numpy as np"
      ]
    },
    {
      "cell_type": "markdown",
      "metadata": {
        "id": "cBJCHSO0ukbC"
      },
      "source": [
        "#### 2. Print the numpy version and the configuration (★☆☆) \n",
        "(**hint**: np.\\_\\_version\\_\\_, np.show\\_config)"
      ]
    },
    {
      "cell_type": "code",
      "execution_count": 4,
      "metadata": {
        "id": "fBRj_klbukbD",
        "colab": {
          "base_uri": "https://localhost:8080/"
        },
        "outputId": "2f5f8a5f-7225-435b-b27e-0af79a897d57"
      },
      "outputs": [
        {
          "output_type": "stream",
          "name": "stdout",
          "text": [
            "1.21.6\n",
            "blas_mkl_info:\n",
            "  NOT AVAILABLE\n",
            "blis_info:\n",
            "  NOT AVAILABLE\n",
            "openblas_info:\n",
            "    libraries = ['openblas', 'openblas']\n",
            "    library_dirs = ['/usr/local/lib']\n",
            "    language = c\n",
            "    define_macros = [('HAVE_CBLAS', None)]\n",
            "    runtime_library_dirs = ['/usr/local/lib']\n",
            "blas_opt_info:\n",
            "    libraries = ['openblas', 'openblas']\n",
            "    library_dirs = ['/usr/local/lib']\n",
            "    language = c\n",
            "    define_macros = [('HAVE_CBLAS', None)]\n",
            "    runtime_library_dirs = ['/usr/local/lib']\n",
            "lapack_mkl_info:\n",
            "  NOT AVAILABLE\n",
            "openblas_lapack_info:\n",
            "    libraries = ['openblas', 'openblas']\n",
            "    library_dirs = ['/usr/local/lib']\n",
            "    language = c\n",
            "    define_macros = [('HAVE_CBLAS', None)]\n",
            "    runtime_library_dirs = ['/usr/local/lib']\n",
            "lapack_opt_info:\n",
            "    libraries = ['openblas', 'openblas']\n",
            "    library_dirs = ['/usr/local/lib']\n",
            "    language = c\n",
            "    define_macros = [('HAVE_CBLAS', None)]\n",
            "    runtime_library_dirs = ['/usr/local/lib']\n",
            "Supported SIMD extensions in this NumPy install:\n",
            "    baseline = SSE,SSE2,SSE3\n",
            "    found = SSSE3,SSE41,POPCNT,SSE42,AVX,F16C,FMA3,AVX2\n",
            "    not found = AVX512F,AVX512CD,AVX512_KNL,AVX512_KNM,AVX512_SKX,AVX512_CLX,AVX512_CNL,AVX512_ICL\n",
            "None\n"
          ]
        }
      ],
      "source": [
        "import numpy as np\n",
        "print(np.__version__)\n",
        "print(np.show_config())"
      ]
    },
    {
      "cell_type": "markdown",
      "metadata": {
        "id": "DDy2aKS3ukbD"
      },
      "source": [
        "#### 3. Create a null vector of size 10 (★☆☆) \n",
        "(**hint**: np.zeros)"
      ]
    },
    {
      "cell_type": "code",
      "execution_count": null,
      "metadata": {
        "id": "91IMKCe5ukbD",
        "colab": {
          "base_uri": "https://localhost:8080/"
        },
        "outputId": "1cba129c-0b8d-4ec0-8605-2eb1c571074c"
      },
      "outputs": [
        {
          "output_type": "stream",
          "name": "stdout",
          "text": [
            "[0. 0. 0. 0. 0. 0. 0. 0. 0. 0.]\n"
          ]
        },
        {
          "output_type": "execute_result",
          "data": {
            "text/plain": [
              "10"
            ]
          },
          "metadata": {},
          "execution_count": 23
        }
      ],
      "source": [
        "import numpy as np\n",
        "s=np.zeros(10)\n",
        "print(s)\n",
        "s.size"
      ]
    },
    {
      "cell_type": "markdown",
      "metadata": {
        "id": "GOZK8583ukbE"
      },
      "source": [
        "#### 4.  How to find the memory size of any array (★☆☆) \n",
        "(**hint**: size, itemsize)"
      ]
    },
    {
      "cell_type": "code",
      "execution_count": null,
      "metadata": {
        "id": "kyB2QXNIukbF",
        "colab": {
          "base_uri": "https://localhost:8080/"
        },
        "outputId": "a750236c-4bf6-4065-ca6f-bb83a8df1333"
      },
      "outputs": [
        {
          "output_type": "stream",
          "name": "stdout",
          "text": [
            "[[ 2  3  4  8 10]\n",
            " [ 5  6  7  9  8]]\n",
            "10 8\n"
          ]
        }
      ],
      "source": [
        "import numpy as np\n",
        "p=np.array([[2,3,4,8,10],[5,6,7,9,8]])\n",
        "print(p)\n",
        "print(p.size,p.itemsize)"
      ]
    },
    {
      "cell_type": "markdown",
      "metadata": {
        "id": "FlpBbe-lukbF"
      },
      "source": [
        "#### 5.  How to get the documentation of the numpy add function from the command line? (★☆☆) \n",
        "(**hint**: np.info)"
      ]
    },
    {
      "cell_type": "code",
      "execution_count": null,
      "metadata": {
        "collapsed": true,
        "id": "yaC12is8ukbG",
        "colab": {
          "base_uri": "https://localhost:8080/"
        },
        "outputId": "fcda7831-40db-4ac5-e212-f6a21e35206d"
      },
      "outputs": [
        {
          "output_type": "stream",
          "name": "stdout",
          "text": [
            "add(x1, x2, /, out=None, *, where=True, casting='same_kind', order='K', dtype=None, subok=True[, signature, extobj])\n",
            "\n",
            "Add arguments element-wise.\n",
            "\n",
            "Parameters\n",
            "----------\n",
            "x1, x2 : array_like\n",
            "    The arrays to be added.\n",
            "    If ``x1.shape != x2.shape``, they must be broadcastable to a common\n",
            "    shape (which becomes the shape of the output).\n",
            "out : ndarray, None, or tuple of ndarray and None, optional\n",
            "    A location into which the result is stored. If provided, it must have\n",
            "    a shape that the inputs broadcast to. If not provided or None,\n",
            "    a freshly-allocated array is returned. A tuple (possible only as a\n",
            "    keyword argument) must have length equal to the number of outputs.\n",
            "where : array_like, optional\n",
            "    This condition is broadcast over the input. At locations where the\n",
            "    condition is True, the `out` array will be set to the ufunc result.\n",
            "    Elsewhere, the `out` array will retain its original value.\n",
            "    Note that if an uninitialized `out` array is created via the default\n",
            "    ``out=None``, locations within it where the condition is False will\n",
            "    remain uninitialized.\n",
            "**kwargs\n",
            "    For other keyword-only arguments, see the\n",
            "    :ref:`ufunc docs <ufuncs.kwargs>`.\n",
            "\n",
            "Returns\n",
            "-------\n",
            "add : ndarray or scalar\n",
            "    The sum of `x1` and `x2`, element-wise.\n",
            "    This is a scalar if both `x1` and `x2` are scalars.\n",
            "\n",
            "Notes\n",
            "-----\n",
            "Equivalent to `x1` + `x2` in terms of array broadcasting.\n",
            "\n",
            "Examples\n",
            "--------\n",
            ">>> np.add(1.0, 4.0)\n",
            "5.0\n",
            ">>> x1 = np.arange(9.0).reshape((3, 3))\n",
            ">>> x2 = np.arange(3.0)\n",
            ">>> np.add(x1, x2)\n",
            "array([[  0.,   2.,   4.],\n",
            "       [  3.,   5.,   7.],\n",
            "       [  6.,   8.,  10.]])\n",
            "\n",
            "The ``+`` operator can be used as a shorthand for ``np.add`` on ndarrays.\n",
            "\n",
            ">>> x1 = np.arange(9.0).reshape((3, 3))\n",
            ">>> x2 = np.arange(3.0)\n",
            ">>> x1 + x2\n",
            "array([[ 0.,  2.,  4.],\n",
            "       [ 3.,  5.,  7.],\n",
            "       [ 6.,  8., 10.]])\n"
          ]
        }
      ],
      "source": [
        "np.info(np.add)"
      ]
    },
    {
      "cell_type": "markdown",
      "metadata": {
        "id": "NdjGOi39ukbG"
      },
      "source": [
        "#### 6.  Create a null vector of size 10 but the fifth value which is 1 (★☆☆) \n",
        "(**hint**: array\\[4\\])"
      ]
    },
    {
      "cell_type": "code",
      "execution_count": null,
      "metadata": {
        "id": "6QswZ8esukbH",
        "colab": {
          "base_uri": "https://localhost:8080/"
        },
        "outputId": "d6fb69af-9d83-4770-d67d-f47c758c7ec0"
      },
      "outputs": [
        {
          "output_type": "stream",
          "name": "stdout",
          "text": [
            "[0. 0. 0. 0. 1. 0. 0. 0. 0. 0.]\n"
          ]
        }
      ],
      "source": [
        "m=np.zeros(10)\n",
        "m[4]=1\n",
        "print(m)"
      ]
    },
    {
      "cell_type": "markdown",
      "metadata": {
        "id": "Gs2YCwviukbH"
      },
      "source": [
        "#### 7.  Create a vector with values ranging from 10 to 49 (★☆☆) \n",
        "(**hint**: np.arange)"
      ]
    },
    {
      "cell_type": "code",
      "execution_count": null,
      "metadata": {
        "id": "eKrHX300ukbH",
        "colab": {
          "base_uri": "https://localhost:8080/"
        },
        "outputId": "9fef6fa0-f0dc-43a2-9730-eb3e36eaf03b"
      },
      "outputs": [
        {
          "output_type": "stream",
          "name": "stdout",
          "text": [
            "[10 11 12 13 14 15 16 17 18 19 20 21 22 23 24 25 26 27 28 29 30 31 32 33\n",
            " 34 35 36 37 38 39 40 41 42 43 44 45 46 47 48 49]\n"
          ]
        }
      ],
      "source": [
        "x = 10 + np.arange(40)\n",
        "print(x)"
      ]
    },
    {
      "cell_type": "markdown",
      "metadata": {
        "id": "ukDDiruVukbI"
      },
      "source": [
        "#### 8.  Reverse a vector (first element becomes last) (★☆☆) \n",
        "(**hint**: array\\[::-1\\])"
      ]
    },
    {
      "cell_type": "code",
      "execution_count": null,
      "metadata": {
        "id": "ceMT9VKZukbI",
        "colab": {
          "base_uri": "https://localhost:8080/"
        },
        "outputId": "1be199c7-2c2b-4019-9a61-6e91a10a249a"
      },
      "outputs": [
        {
          "output_type": "stream",
          "name": "stdout",
          "text": [
            "[  1   2   3   4   5   6   7   8   9  10  20  30  40  50  60  70  80  90\n",
            " 100]\n",
            "[100  90  80  70  60  50  40  30  20  10   9   8   7   6   5   4   3   2\n",
            "   1]\n"
          ]
        }
      ],
      "source": [
        "import numpy as np\n",
        "m=np.array([1,2,3,4,5,6,7,8,9,10,20,30,40,50,60,70,80,90,100])\n",
        "print(m)\n",
        "n =m[::-1]\n",
        "print(n)"
      ]
    },
    {
      "cell_type": "markdown",
      "metadata": {
        "id": "gZETDkZaukbI"
      },
      "source": [
        "#### 9.  Create a 3x3 matrix with values ranging from 0 to 8 (★☆☆) \n",
        "(**hint**: reshape)"
      ]
    },
    {
      "cell_type": "code",
      "execution_count": null,
      "metadata": {
        "id": "HuEodaLmukbI",
        "colab": {
          "base_uri": "https://localhost:8080/"
        },
        "outputId": "986aa8c0-bc8d-4993-861e-5391ca267ef7"
      },
      "outputs": [
        {
          "output_type": "stream",
          "name": "stdout",
          "text": [
            "[[0 1 2]\n",
            " [3 4 5]\n",
            " [6 7 8]]\n"
          ]
        }
      ],
      "source": [
        "import numpy as np\n",
        "o=np.arange(9).reshape((3,3))\n",
        "print(o)"
      ]
    },
    {
      "cell_type": "markdown",
      "metadata": {
        "id": "FdbaDHaFukbJ"
      },
      "source": [
        "#### 10. Find indices of non-zero elements from \\[1,2,0,0,4,0\\] (★☆☆) \n",
        "(**hint**: np.nonzero)"
      ]
    },
    {
      "cell_type": "code",
      "execution_count": null,
      "metadata": {
        "id": "6Juq8-g1ukbJ",
        "colab": {
          "base_uri": "https://localhost:8080/"
        },
        "outputId": "5c4956c7-d2b9-4997-98c0-abd3b2ca8c0d"
      },
      "outputs": [
        {
          "output_type": "stream",
          "name": "stdout",
          "text": [
            "(array([0, 1, 4]),)\n"
          ]
        }
      ],
      "source": [
        "i=np.array([1,2,0,0,4,0])\n",
        "\n",
        "o=np.nonzero(i)\n",
        "print(o)"
      ]
    },
    {
      "cell_type": "markdown",
      "metadata": {
        "id": "LinJ7oic2hOG"
      },
      "source": [
        "#### 10. Find indices of non-zero elements from \\[1,2,0,0,4,0\\] (★☆☆) \n",
        "(**hint**: np.nonzero)"
      ]
    },
    {
      "cell_type": "markdown",
      "metadata": {
        "id": "7unZkyudukbJ"
      },
      "source": [
        "#### 11. Create a 3x3 identity matrix (★☆☆) \n",
        "(**hint**: np.eye)"
      ]
    },
    {
      "cell_type": "code",
      "execution_count": null,
      "metadata": {
        "id": "l7mRCdE8ukbJ",
        "colab": {
          "base_uri": "https://localhost:8080/"
        },
        "outputId": "c5616791-be5a-4144-c172-8833a73a00e3"
      },
      "outputs": [
        {
          "output_type": "stream",
          "name": "stdout",
          "text": [
            "[[1. 0. 0.]\n",
            " [0. 1. 0.]\n",
            " [0. 0. 1.]]\n"
          ]
        }
      ],
      "source": [
        "o=np.eye(3,3)\n",
        "print(o)"
      ]
    },
    {
      "cell_type": "markdown",
      "metadata": {
        "id": "r0e8FXYiukbK"
      },
      "source": [
        "#### 12. Create a 3x3x3 array with random values (★☆☆) \n",
        "(**hint**: np.random.random)"
      ]
    },
    {
      "cell_type": "code",
      "execution_count": null,
      "metadata": {
        "collapsed": true,
        "id": "NuSkRnhQukbK",
        "colab": {
          "base_uri": "https://localhost:8080/"
        },
        "outputId": "0e7dd5da-31fc-42b8-ee9f-2dcd68176cae"
      },
      "outputs": [
        {
          "output_type": "stream",
          "name": "stdout",
          "text": [
            "[[[0.64235373 0.13029168 0.71061712]\n",
            "  [0.02355249 0.40464404 0.18680247]\n",
            "  [0.04765758 0.67937551 0.39794612]]\n",
            "\n",
            " [[0.97392229 0.85240289 0.09647802]\n",
            "  [0.50691985 0.25493239 0.73180787]\n",
            "  [0.4605062  0.5500566  0.51856954]]\n",
            "\n",
            " [[0.13171853 0.79645182 0.26762063]\n",
            "  [0.60610864 0.18925648 0.34916637]\n",
            "  [0.54987648 0.97319782 0.2537935 ]]]\n"
          ]
        }
      ],
      "source": [
        "l=np.random.random((3,3,3))\n",
        "print(l)"
      ]
    },
    {
      "cell_type": "markdown",
      "metadata": {
        "id": "f3dFJdabukbK"
      },
      "source": [
        "#### 13. Create a 10x10 array with random values and find the minimum and maximum values (★☆☆) \n",
        "(**hint**: min, max)"
      ]
    },
    {
      "cell_type": "code",
      "execution_count": null,
      "metadata": {
        "id": "DKF_sGAYukbK",
        "colab": {
          "base_uri": "https://localhost:8080/"
        },
        "outputId": "1b2624b5-f729-43ef-da5d-022471d0d488"
      },
      "outputs": [
        {
          "output_type": "stream",
          "name": "stdout",
          "text": [
            "[[0.84113315 0.3117969  0.37098548 0.76900928 0.06430005 0.36861357\n",
            "  0.08684308 0.83181602 0.06366455 0.03081406]\n",
            " [0.46315201 0.22173665 0.59502545 0.91504524 0.45038339 0.78392916\n",
            "  0.3110074  0.41639784 0.97362927 0.30933205]\n",
            " [0.8230574  0.52334504 0.15233563 0.38252184 0.8452272  0.51971746\n",
            "  0.14750724 0.63265697 0.78697307 0.01427819]\n",
            " [0.6477962  0.53368544 0.85636897 0.83242965 0.73359498 0.34605297\n",
            "  0.68120041 0.72338862 0.43723735 0.90383184]\n",
            " [0.41920496 0.04291109 0.08635864 0.30867789 0.19718518 0.90405181\n",
            "  0.0929715  0.75052551 0.26655037 0.18854378]\n",
            " [0.66714421 0.26077997 0.21320451 0.42646073 0.19803502 0.72874312\n",
            "  0.24867712 0.296488   0.88461583 0.7036847 ]\n",
            " [0.1798793  0.75930231 0.48769105 0.16739693 0.83678265 0.67755772\n",
            "  0.515629   0.44163162 0.44123115 0.38567015]\n",
            " [0.05743589 0.49883744 0.6663844  0.03813615 0.53887041 0.28091944\n",
            "  0.96175228 0.01965971 0.2941145  0.11865781]\n",
            " [0.86877383 0.23730059 0.14321534 0.50965765 0.47708571 0.89328093\n",
            "  0.75514173 0.25265254 0.38138201 0.42337866]\n",
            " [0.17315232 0.57020965 0.30016898 0.776351   0.64529348 0.81621304\n",
            "  0.82566285 0.22687227 0.60481175 0.6467951 ]]\n",
            "0.014278186519428249 0.9736292710025993\n"
          ]
        }
      ],
      "source": [
        "n=np.random.random((10,10))\n",
        "print(n)\n",
        "min,max=n.min(),n.max()\n",
        "print(min,max)"
      ]
    },
    {
      "cell_type": "markdown",
      "metadata": {
        "id": "VDMEpsRfukbK"
      },
      "source": [
        "#### 14. Create a random vector of size 30 and find the mean value (★☆☆) \n",
        "(**hint**: mean)"
      ]
    },
    {
      "cell_type": "code",
      "execution_count": null,
      "metadata": {
        "id": "sAulNDsBukbK",
        "colab": {
          "base_uri": "https://localhost:8080/"
        },
        "outputId": "4d0fb8bc-4579-4d5e-fd41-a2d97f6c3523"
      },
      "outputs": [
        {
          "output_type": "stream",
          "name": "stdout",
          "text": [
            "[0.90469052 0.75469328 0.36560304 0.44946448 0.83317187 0.48740965\n",
            " 0.92139573 0.38028738 0.28890545 0.88788    0.29230565 0.02124496\n",
            " 0.24204376 0.40603861 0.63133683 0.81509349 0.32279695 0.74304644\n",
            " 0.61413223 0.20583441 0.10119874 0.86334261 0.59063123 0.57925792\n",
            " 0.29837223 0.79313098 0.23671595 0.14431633 0.92634563 0.20659919]\n",
            "0.5102428513506724\n"
          ]
        }
      ],
      "source": [
        "m=np.random.random(30)\n",
        "print(m)\n",
        "mean=m.mean()\n",
        "print(mean)"
      ]
    },
    {
      "cell_type": "markdown",
      "metadata": {
        "id": "SZjtm1peukbL"
      },
      "source": [
        "#### 15. Create a 2d array with 1 on the border and 0 inside (★☆☆) \n",
        "(**hint**: array\\[1:-1, 1:-1\\])"
      ]
    },
    {
      "cell_type": "code",
      "execution_count": null,
      "metadata": {
        "id": "U-hN9tR7ukbL",
        "colab": {
          "base_uri": "https://localhost:8080/"
        },
        "outputId": "25c42689-008c-474c-ed3a-70569ed8715d"
      },
      "outputs": [
        {
          "output_type": "stream",
          "name": "stdout",
          "text": [
            "[[1. 1. 1. 1. 1.]\n",
            " [1. 0. 0. 0. 1.]\n",
            " [1. 0. 0. 0. 1.]\n",
            " [1. 0. 0. 0. 1.]\n",
            " [1. 1. 1. 1. 1.]]\n"
          ]
        }
      ],
      "source": [
        "b=np.ones((5,5))\n",
        "b[1:-1,1:-1]=0\n",
        "print(b)          "
      ]
    },
    {
      "cell_type": "markdown",
      "metadata": {
        "id": "x236siDGukbL"
      },
      "source": [
        "#### 16. How to add a border (filled with 0's) around an existing array? (★☆☆) \n",
        "(**hint**: np.pad)"
      ]
    },
    {
      "cell_type": "code",
      "execution_count": 23,
      "metadata": {
        "id": "wnEpJW1NukbL",
        "colab": {
          "base_uri": "https://localhost:8080/"
        },
        "outputId": "1fc9679c-1f19-443d-e9ad-4ff64d7c899d"
      },
      "outputs": [
        {
          "output_type": "execute_result",
          "data": {
            "text/plain": [
              "array([[ 0,  0,  0,  0,  0,  0],\n",
              "       [ 0,  1,  2,  3,  4,  0],\n",
              "       [ 0,  5,  6,  7,  8,  0],\n",
              "       [ 0,  9, 10, 11, 12,  0],\n",
              "       [ 0,  0,  0,  0,  0,  0]])"
            ]
          },
          "metadata": {},
          "execution_count": 23
        }
      ],
      "source": [
        "a=np.arange(1,13).reshape(3,4)\n",
        "b=np.pad(a,pad_width=1,mode=\"constant\",constant_values=0)\n",
        "b"
      ]
    },
    {
      "cell_type": "markdown",
      "metadata": {
        "id": "BH4pgJp2ukbL"
      },
      "source": [
        "#### 17. What is the result of the following expression? (★☆☆) \n",
        "(**hint**: NaN = not a number, inf = infinity)"
      ]
    },
    {
      "cell_type": "markdown",
      "metadata": {
        "id": "ZOMccwtQukbL"
      },
      "source": [
        "```python\n",
        "0 * np.nan\n",
        "np.nan == np.nan\n",
        "np.inf > np.nan\n",
        "np.nan - np.nan\n",
        "0.3 == 3 * 0.1\n",
        "```"
      ]
    },
    {
      "cell_type": "code",
      "execution_count": 24,
      "metadata": {
        "id": "0w_vGFbPukbM",
        "colab": {
          "base_uri": "https://localhost:8080/"
        },
        "outputId": "bcb77feb-b1cb-434a-81a6-2cc370f76f7a"
      },
      "outputs": [
        {
          "output_type": "execute_result",
          "data": {
            "text/plain": [
              "(nan, False, False, nan, False)"
            ]
          },
          "metadata": {},
          "execution_count": 24
        }
      ],
      "source": [
        "0*np.nan,np.nan == np.nan,np.inf > np.nan,np.nan - np.nan,0.3 == 3 * 0.1"
      ]
    },
    {
      "cell_type": "markdown",
      "metadata": {
        "id": "NCamO1cUukbM"
      },
      "source": [
        "#### 18. Create a 5x5 matrix with values 1,2,3,4 just below the diagonal (★☆☆) \n",
        "(**hint**: np.diag)"
      ]
    },
    {
      "cell_type": "code",
      "execution_count": 26,
      "metadata": {
        "id": "UG2nIPN8ukbM",
        "colab": {
          "base_uri": "https://localhost:8080/"
        },
        "outputId": "afb73611-26dc-4274-d374-bf0fa1e3de99"
      },
      "outputs": [
        {
          "output_type": "execute_result",
          "data": {
            "text/plain": [
              "array([[1., 0., 0., 0., 0.],\n",
              "       [1., 1., 0., 0., 0.],\n",
              "       [0., 2., 1., 0., 0.],\n",
              "       [0., 0., 3., 1., 0.],\n",
              "       [0., 0., 0., 4., 1.]])"
            ]
          },
          "metadata": {},
          "execution_count": 26
        }
      ],
      "source": [
        "x=np.eye(5,5)\n",
        "y=np.diag([1,2,3,4])\n",
        "y=np.insert(y,4,np.zeros(y.shape[1]),axis=1)\n",
        "y=np.insert(y,0,np.zeros(x.shape[0]),axis=0)\n",
        "x+y"
      ]
    },
    {
      "cell_type": "markdown",
      "metadata": {
        "id": "0uCBCVWhukbM"
      },
      "source": [
        "#### 19. Create a 8x8 matrix and fill it with a checkerboard pattern (★☆☆) \n",
        "(**hint**: array\\[::2\\])"
      ]
    },
    {
      "cell_type": "code",
      "execution_count": 27,
      "metadata": {
        "id": "avEVWvZpukbM",
        "colab": {
          "base_uri": "https://localhost:8080/"
        },
        "outputId": "0f64af8c-4182-4d4b-c63b-e047746f41fe"
      },
      "outputs": [
        {
          "output_type": "execute_result",
          "data": {
            "text/plain": [
              "array([[1., 0., 1., 0., 1., 0., 1., 0.],\n",
              "       [0., 1., 0., 1., 0., 1., 0., 1.],\n",
              "       [1., 0., 1., 0., 1., 0., 1., 0.],\n",
              "       [0., 1., 0., 1., 0., 1., 0., 1.],\n",
              "       [1., 0., 1., 0., 1., 0., 1., 0.],\n",
              "       [0., 1., 0., 1., 0., 1., 0., 1.],\n",
              "       [1., 0., 1., 0., 1., 0., 1., 0.],\n",
              "       [0., 1., 0., 1., 0., 1., 0., 1.]])"
            ]
          },
          "metadata": {},
          "execution_count": 27
        }
      ],
      "source": [
        "x=np.zeros(64).reshape(8,8)\n",
        "x[::2,::2]=1\n",
        "x[1::2,1::2]=1\n",
        "x"
      ]
    },
    {
      "cell_type": "markdown",
      "metadata": {
        "id": "lXj518wnukbN"
      },
      "source": [
        "#### 20. Consider a (6,7,8) shape array, what is the index (x,y,z) of the 100th element? \n",
        "(**hint**: np.unravel_index)"
      ]
    },
    {
      "cell_type": "code",
      "execution_count": 28,
      "metadata": {
        "id": "vfwmEhjEukbN",
        "colab": {
          "base_uri": "https://localhost:8080/"
        },
        "outputId": "d734e27c-61a5-4f67-9d47-fd2a84251c50"
      },
      "outputs": [
        {
          "output_type": "execute_result",
          "data": {
            "text/plain": [
              "(1, 5, 4)"
            ]
          },
          "metadata": {},
          "execution_count": 28
        }
      ],
      "source": [
        "x=np.arange(336).reshape(6,7,8)\n",
        "np.unravel_index(100,(6,7,8))"
      ]
    },
    {
      "cell_type": "markdown",
      "metadata": {
        "id": "50d0OMr7ukbN"
      },
      "source": [
        "#### 21. Create a checkerboard 8x8 matrix using the tile function (★☆☆) \n",
        "(**hint**: np.tile)"
      ]
    },
    {
      "cell_type": "code",
      "execution_count": 29,
      "metadata": {
        "id": "ZAPC8GQLukbN",
        "colab": {
          "base_uri": "https://localhost:8080/"
        },
        "outputId": "78f42c59-2d44-46e3-c02f-30e0211c5cef"
      },
      "outputs": [
        {
          "output_type": "execute_result",
          "data": {
            "text/plain": [
              "array([[1, 0, 1, 0, 1, 0, 1, 0],\n",
              "       [0, 1, 0, 1, 0, 1, 0, 1],\n",
              "       [1, 0, 1, 0, 1, 0, 1, 0],\n",
              "       [0, 1, 0, 1, 0, 1, 0, 1],\n",
              "       [1, 0, 1, 0, 1, 0, 1, 0],\n",
              "       [0, 1, 0, 1, 0, 1, 0, 1],\n",
              "       [1, 0, 1, 0, 1, 0, 1, 0],\n",
              "       [0, 1, 0, 1, 0, 1, 0, 1]])"
            ]
          },
          "metadata": {},
          "execution_count": 29
        }
      ],
      "source": [
        "x=np.tile(np.array([[1,0],[0,1]]),[4,4])\n",
        "x"
      ]
    },
    {
      "cell_type": "markdown",
      "metadata": {
        "id": "94Exbxg0ukbN"
      },
      "source": [
        "#### 22. Normalize a 5x5 random matrix (★☆☆) \n",
        "(**hint**: (x - min) / (max - min))"
      ]
    },
    {
      "cell_type": "code",
      "execution_count": 30,
      "metadata": {
        "id": "QfoADTqlukbO",
        "colab": {
          "base_uri": "https://localhost:8080/"
        },
        "outputId": "a4fa2b83-ff42-4fc4-e788-db24f79d733d"
      },
      "outputs": [
        {
          "output_type": "execute_result",
          "data": {
            "text/plain": [
              "array([[0.91880313, 0.44190522, 0.15575824, 0.40862432, 0.08874991],\n",
              "       [0.40948322, 0.90410849, 0.27069585, 0.24469876, 0.66425565],\n",
              "       [0.45529581, 0.14912088, 0.74568368, 1.        , 0.50741633],\n",
              "       [0.91752995, 0.020855  , 0.        , 0.78566535, 0.45330841],\n",
              "       [0.84781122, 0.27026124, 0.90219445, 0.88773432, 0.91853744]])"
            ]
          },
          "metadata": {},
          "execution_count": 30
        }
      ],
      "source": [
        "df=np.random.random((5,5))\n",
        "dfmin,dfmax=df.min(),df.max()\n",
        "df=(df-dfmin)/(dfmax-dfmin)\n",
        "df"
      ]
    },
    {
      "cell_type": "markdown",
      "metadata": {
        "id": "MnEAmJrqukbO"
      },
      "source": [
        "#### 23. Create a custom dtype that describes a color as four unsigned bytes (RGBA) (★☆☆) \n",
        "(**hint**: np.dtype)"
      ]
    },
    {
      "cell_type": "code",
      "execution_count": 31,
      "metadata": {
        "collapsed": true,
        "id": "lIVijG0yukbO"
      },
      "outputs": [],
      "source": []
    },
    {
      "cell_type": "markdown",
      "metadata": {
        "id": "6jToFq2xukbO"
      },
      "source": [
        "#### 24. Multiply a 5x3 matrix by a 3x2 matrix (real matrix product) (★☆☆) \n",
        "(**hint**: np.dot | @)"
      ]
    },
    {
      "cell_type": "code",
      "execution_count": 33,
      "metadata": {
        "id": "JUoRZup4ukbO",
        "colab": {
          "base_uri": "https://localhost:8080/"
        },
        "outputId": "cae9fbf6-374b-446a-fa83-60abe7ba5126"
      },
      "outputs": [
        {
          "output_type": "execute_result",
          "data": {
            "text/plain": [
              "array([[63, 60],\n",
              "       [84, 81],\n",
              "       [66, 65],\n",
              "       [99, 90],\n",
              "       [70, 70]])"
            ]
          },
          "metadata": {},
          "execution_count": 33
        }
      ],
      "source": [
        "mat1=np.random.randint(2,10,(5,3))\n",
        "mat2=np.random.randint(2,10,(3,2))\n",
        "x=np.dot(mat1,mat2)\n",
        "x"
      ]
    },
    {
      "cell_type": "markdown",
      "metadata": {
        "id": "O8Jqe41bukbO"
      },
      "source": [
        "#### 25. Given a 1D array, negate all elements which are between 3 and 8, in place. (★☆☆) \n",
        "(**hint**: >, <=)"
      ]
    },
    {
      "cell_type": "code",
      "execution_count": 34,
      "metadata": {
        "id": "GtHEidEgukbO",
        "colab": {
          "base_uri": "https://localhost:8080/"
        },
        "outputId": "9fd3223b-434c-491a-86f6-233cb7f088c1"
      },
      "outputs": [
        {
          "output_type": "execute_result",
          "data": {
            "text/plain": [
              "array([ 0,  1,  2,  3, -4, -5, -6, -7, -8,  9, 10, 11, 12, 13, 14, 15, 16,\n",
              "       17, 18, 19])"
            ]
          },
          "metadata": {},
          "execution_count": 34
        }
      ],
      "source": [
        "x=np.arange(20)\n",
        "x[(x>3) & (x<=8)]*=-1\n",
        "x"
      ]
    },
    {
      "cell_type": "markdown",
      "metadata": {
        "id": "89Oj94FdukbO"
      },
      "source": [
        "#### 26. What is the output of the following script? (★☆☆) \n",
        "(**hint**: np.sum)"
      ]
    },
    {
      "cell_type": "markdown",
      "metadata": {
        "id": "kZRY2K8XukbP"
      },
      "source": [
        "```python\n",
        "# Author: Jake VanderPlas\n",
        "\n",
        "print(sum(range(5),-1))\n",
        "from numpy import *\n",
        "print(sum(range(5),-1))\n",
        "```"
      ]
    },
    {
      "cell_type": "code",
      "execution_count": 35,
      "metadata": {
        "id": "D1EFdkmGukbP",
        "colab": {
          "base_uri": "https://localhost:8080/"
        },
        "outputId": "d80a1427-7c62-44c3-e1ff-3733eb69c68c"
      },
      "outputs": [
        {
          "output_type": "stream",
          "name": "stdout",
          "text": [
            "9\n",
            "10\n"
          ]
        }
      ],
      "source": [
        "print(sum(range(5),-1))\n",
        "from numpy import *\n",
        "print(sum(range(5),-1))"
      ]
    },
    {
      "cell_type": "markdown",
      "metadata": {
        "id": "VOmq8iCHukbP"
      },
      "source": [
        "#### 27. Consider an integer vector Z, which of these expressions are legal? (★☆☆)"
      ]
    },
    {
      "cell_type": "markdown",
      "metadata": {
        "id": "NDpwklb8ukbP"
      },
      "source": [
        "```python\n",
        "Z**Z\n",
        "2 << Z >> 2\n",
        "Z <- Z\n",
        "1j*Z\n",
        "Z/1/1\n",
        "Z<Z>Z\n",
        "```"
      ]
    },
    {
      "cell_type": "code",
      "execution_count": 36,
      "metadata": {
        "id": "lkxFQaRSukbP",
        "colab": {
          "base_uri": "https://localhost:8080/"
        },
        "outputId": "80464008-a4eb-479c-985b-13fc99f5354b"
      },
      "outputs": [
        {
          "output_type": "stream",
          "name": "stdout",
          "text": [
            "[[ 0  1  2  3]\n",
            " [ 4  5  6  7]\n",
            " [ 8  9 10 11]]\n",
            "[[           1            1            4           27]\n",
            " [         256         3125        46656       823543]\n",
            " [    16777216    387420489  10000000000 285311670611]]\n",
            "[[   0    1    2    4]\n",
            " [   8   16   32   64]\n",
            " [ 128  256  512 1024]]\n",
            "[[False False False False]\n",
            " [False False False False]\n",
            " [False False False False]]\n",
            "[[0. +0.j 0. +1.j 0. +2.j 0. +3.j]\n",
            " [0. +4.j 0. +5.j 0. +6.j 0. +7.j]\n",
            " [0. +8.j 0. +9.j 0.+10.j 0.+11.j]]\n",
            "[[ 0.  1.  2.  3.]\n",
            " [ 4.  5.  6.  7.]\n",
            " [ 8.  9. 10. 11.]]\n"
          ]
        }
      ],
      "source": [
        "x=np.arange(12).reshape(3,4)\n",
        "print(x)\n",
        "print(x**x)\n",
        "print(2 << x >> 2)\n",
        "print(x<-x)\n",
        "print(1j*x)\n",
        "print(x/1/1)"
      ]
    },
    {
      "cell_type": "markdown",
      "metadata": {
        "id": "yTZM80g6ukbP"
      },
      "source": [
        "#### 28. What are the result of the following expressions?"
      ]
    },
    {
      "cell_type": "markdown",
      "metadata": {
        "id": "e6et-wMMukbP"
      },
      "source": [
        "```python\n",
        "np.array(0) / np.array(0)\n",
        "np.array(0) // np.array(0)\n",
        "np.array([np.nan]).astype(int).astype(float)\n",
        "```"
      ]
    },
    {
      "cell_type": "code",
      "execution_count": 37,
      "metadata": {
        "id": "LCdnu0RQukbP",
        "colab": {
          "base_uri": "https://localhost:8080/"
        },
        "outputId": "5f755f71-9ddd-407d-8548-e9ec09c6ac54"
      },
      "outputs": [
        {
          "output_type": "stream",
          "name": "stdout",
          "text": [
            "nan\n",
            "0\n",
            "[-9.22337204e+18]\n"
          ]
        },
        {
          "output_type": "stream",
          "name": "stderr",
          "text": [
            "/usr/local/lib/python3.7/dist-packages/ipykernel_launcher.py:1: RuntimeWarning: invalid value encountered in true_divide\n",
            "  \"\"\"Entry point for launching an IPython kernel.\n",
            "/usr/local/lib/python3.7/dist-packages/ipykernel_launcher.py:2: RuntimeWarning: divide by zero encountered in floor_divide\n",
            "  \n"
          ]
        }
      ],
      "source": [
        "print(np.array(0)/ np.array(0))\n",
        "print(np.array(0) // np.array(0))\n",
        "print(np.array([np.nan]).astype(int).astype(float))"
      ]
    },
    {
      "cell_type": "markdown",
      "metadata": {
        "id": "UAtDXmF_ukbQ"
      },
      "source": [
        "#### 29. How to round away from zero a float array ? (★☆☆) \n",
        "(**hint**: np.uniform, np.copysign, np.ceil, np.abs)"
      ]
    },
    {
      "cell_type": "code",
      "execution_count": 38,
      "metadata": {
        "id": "zY0mchcFukbQ",
        "colab": {
          "base_uri": "https://localhost:8080/"
        },
        "outputId": "2dbff068-1452-4376-cc79-7101083a0af8"
      },
      "outputs": [
        {
          "output_type": "execute_result",
          "data": {
            "text/plain": [
              "array([ -3.,  -6.,  -9., -10.,  -3.,   6.,  -3.,   8.,   4.,  -6.])"
            ]
          },
          "metadata": {},
          "execution_count": 38
        }
      ],
      "source": [
        "x = np.random.uniform(-10, +10, 10)\n",
        "np.copysign(np.ceil(np.abs(x)),x)"
      ]
    },
    {
      "cell_type": "markdown",
      "metadata": {
        "id": "1TC_9cddukbQ"
      },
      "source": [
        "#### 30. How to find common values between two arrays? (★☆☆) \n",
        "(**hint**: np.intersect1d)"
      ]
    },
    {
      "cell_type": "code",
      "execution_count": 39,
      "metadata": {
        "id": "2AzZR0jhukbQ",
        "colab": {
          "base_uri": "https://localhost:8080/"
        },
        "outputId": "aae11694-1ab5-4595-f2d9-d5f6e9e1b560"
      },
      "outputs": [
        {
          "output_type": "execute_result",
          "data": {
            "text/plain": [
              "array([8, 9])"
            ]
          },
          "metadata": {},
          "execution_count": 39
        }
      ],
      "source": [
        "x=np.arange(0,10)\n",
        "Y=np.arange(8,19)\n",
        "Z=np.intersect1d(x,Y)\n",
        "Z"
      ]
    },
    {
      "cell_type": "markdown",
      "metadata": {
        "id": "A-Pp-dg9ukbQ"
      },
      "source": [
        "#### 31. How to ignore all numpy warnings (not recommended)? (★☆☆) \n",
        "(**hint**: np.seterr, np.errstate)"
      ]
    },
    {
      "cell_type": "code",
      "execution_count": 40,
      "metadata": {
        "id": "Dy7lrYkeukbQ",
        "colab": {
          "base_uri": "https://localhost:8080/"
        },
        "outputId": "3670da38-9e4f-4643-ff36-a833ff96af1c"
      },
      "outputs": [
        {
          "output_type": "stream",
          "name": "stderr",
          "text": [
            "/usr/local/lib/python3.7/dist-packages/ipykernel_launcher.py:4: RuntimeWarning: divide by zero encountered in true_divide\n",
            "  after removing the cwd from sys.path.\n"
          ]
        }
      ],
      "source": [
        "np.seterr(all='ignore')\n",
        "X=np.arange(3)/0\n",
        "with np.errstate(divide='warn'):\n",
        "     X=np.arange(3)/0"
      ]
    },
    {
      "cell_type": "markdown",
      "metadata": {
        "id": "uJ34zefCukbQ"
      },
      "source": [
        "#### 32. Is the following expressions true? (★☆☆) \n",
        "(**hint**: imaginary number)"
      ]
    },
    {
      "cell_type": "markdown",
      "metadata": {
        "id": "HHycyNERukbQ"
      },
      "source": [
        "```python\n",
        "np.sqrt(-1) == np.emath.sqrt(-1)\n",
        "```"
      ]
    },
    {
      "cell_type": "code",
      "execution_count": 41,
      "metadata": {
        "id": "oudtI1fTukbR",
        "colab": {
          "base_uri": "https://localhost:8080/"
        },
        "outputId": "2d0f9d92-c3d3-45d9-843a-4e8971da02de"
      },
      "outputs": [
        {
          "output_type": "execute_result",
          "data": {
            "text/plain": [
              "False"
            ]
          },
          "metadata": {},
          "execution_count": 41
        }
      ],
      "source": [
        "np.sqrt(-1) == np.emath.sqrt(-1)"
      ]
    },
    {
      "cell_type": "markdown",
      "metadata": {
        "id": "5Y9fmuhfukbR"
      },
      "source": [
        "#### 33. How to get the dates of yesterday, today and tomorrow? (★☆☆) \n",
        "(**hint**: np.datetime64, np.timedelta64)"
      ]
    },
    {
      "cell_type": "code",
      "execution_count": 42,
      "metadata": {
        "collapsed": true,
        "id": "nnHOE711ukbR",
        "colab": {
          "base_uri": "https://localhost:8080/"
        },
        "outputId": "57af8a40-640d-4056-a22b-f5e346e1c655"
      },
      "outputs": [
        {
          "output_type": "stream",
          "name": "stdout",
          "text": [
            "Today :  2022-11-30\n",
            "Yesterday :  2022-11-29\n",
            "Tomorrow :  2022-12-01\n"
          ]
        }
      ],
      "source": [
        "Today=np.datetime64('today','D')\n",
        "print('Today : ',Today)\n",
        "Yesterday=np.datetime64('today','D')-np.timedelta64(1,'D')\n",
        "print('Yesterday : ',Yesterday)\n",
        "Tomorrow=np.datetime64('today','D')+np.timedelta64(1,'D')\n",
        "print('Tomorrow : ',Tomorrow)"
      ]
    },
    {
      "cell_type": "markdown",
      "metadata": {
        "id": "lbIAW-jkukbR"
      },
      "source": [
        "#### 34. How to get all the dates corresponding to the month of July 2016? (★★☆) \n",
        "(**hint**: np.arange(dtype=datetime64\\['D'\\]))"
      ]
    },
    {
      "cell_type": "code",
      "execution_count": 43,
      "metadata": {
        "id": "iyTTi6hcukbR",
        "colab": {
          "base_uri": "https://localhost:8080/"
        },
        "outputId": "2fe59183-c2ce-4887-e797-02971100fb7b"
      },
      "outputs": [
        {
          "output_type": "execute_result",
          "data": {
            "text/plain": [
              "array(['2016-07-01', '2016-07-02', '2016-07-03', '2016-07-04',\n",
              "       '2016-07-05', '2016-07-06', '2016-07-07', '2016-07-08',\n",
              "       '2016-07-09', '2016-07-10', '2016-07-11', '2016-07-12',\n",
              "       '2016-07-13', '2016-07-14', '2016-07-15', '2016-07-16',\n",
              "       '2016-07-17', '2016-07-18', '2016-07-19', '2016-07-20',\n",
              "       '2016-07-21', '2016-07-22', '2016-07-23', '2016-07-24',\n",
              "       '2016-07-25', '2016-07-26', '2016-07-27', '2016-07-28',\n",
              "       '2016-07-29', '2016-07-30', '2016-07-31'], dtype='datetime64[D]')"
            ]
          },
          "metadata": {},
          "execution_count": 43
        }
      ],
      "source": [
        "X=np.arange('2016-07','2016-08',dtype='datetime64[D]')\n",
        "X"
      ]
    },
    {
      "cell_type": "markdown",
      "metadata": {
        "id": "WdF734PmukbR"
      },
      "source": [
        "#### 35. How to compute ((A+B)\\*(-A/2)) in place (without copy)? (★★☆) \n",
        "(**hint**: np.add(out=), np.negative(out=), np.multiply(out=), np.divide(out=))"
      ]
    },
    {
      "cell_type": "code",
      "execution_count": 44,
      "metadata": {
        "id": "eGKk_KsLukbR",
        "colab": {
          "base_uri": "https://localhost:8080/"
        },
        "outputId": "3a4a9d29-5e5e-42a1-9b30-c672455a54bb"
      },
      "outputs": [
        {
          "output_type": "execute_result",
          "data": {
            "text/plain": [
              "array([-1., -1., -1., -1., -1.])"
            ]
          },
          "metadata": {},
          "execution_count": 44
        }
      ],
      "source": [
        "A=np.ones(5)\n",
        "B=np.ones(5)\n",
        "np.add(A,B,out=B)\n",
        "np.divide(A,2,out=A)\n",
        "np.negative(A,out=A)\n",
        "np.multiply(B,A,out=A)"
      ]
    },
    {
      "cell_type": "markdown",
      "metadata": {
        "id": "yZVRzc8KukbR"
      },
      "source": [
        "#### 36. Extract the integer part of a random array using 5 different methods (★★☆) \n",
        "(**hint**: %, np.floor, np.ceil, astype, np.trunc)"
      ]
    },
    {
      "cell_type": "code",
      "execution_count": 45,
      "metadata": {
        "id": "anD5FhwwukbR",
        "colab": {
          "base_uri": "https://localhost:8080/"
        },
        "outputId": "dfbf8c6d-c500-45d4-d2f9-7f1910fb8beb"
      },
      "outputs": [
        {
          "output_type": "stream",
          "name": "stdout",
          "text": [
            "[2.28553121 8.50475343 3.85178747 1.9577548  5.4602242  5.48267655\n",
            " 3.44776878 1.94455068 4.49741474 7.47747974]\n",
            "[2. 8. 3. 1. 5. 5. 3. 1. 4. 7.]\n",
            "[2. 8. 3. 1. 5. 5. 3. 1. 4. 7.]\n",
            "[2. 8. 3. 1. 5. 5. 3. 1. 4. 7.]\n",
            "[2 8 3 1 5 5 3 1 4 7]\n",
            "[2. 8. 3. 1. 5. 5. 3. 1. 4. 7.]\n"
          ]
        }
      ],
      "source": [
        "X=np.random.uniform(0,12,10)\n",
        "print(X)\n",
        "print(X-(X%1))\n",
        "print(np.floor(X))\n",
        "print(np.ceil(X)-1)\n",
        "print(X.astype(int))\n",
        "print(np.trunc(X))"
      ]
    },
    {
      "cell_type": "markdown",
      "metadata": {
        "id": "Dr0WEtm9ukbS"
      },
      "source": [
        "#### 37. Create a 5x5 matrix with row values ranging from 0 to 4 (★★☆) \n",
        "(**hint**: np.arange)"
      ]
    },
    {
      "cell_type": "code",
      "execution_count": 46,
      "metadata": {
        "id": "JcEBB-ALukbS",
        "colab": {
          "base_uri": "https://localhost:8080/"
        },
        "outputId": "cd4ff7c5-df56-4c0e-a96f-fb0c2536396f"
      },
      "outputs": [
        {
          "output_type": "execute_result",
          "data": {
            "text/plain": [
              "array([[0., 1., 2., 3., 4.],\n",
              "       [0., 1., 2., 3., 4.],\n",
              "       [0., 1., 2., 3., 4.],\n",
              "       [0., 1., 2., 3., 4.],\n",
              "       [0., 1., 2., 3., 4.]])"
            ]
          },
          "metadata": {},
          "execution_count": 46
        }
      ],
      "source": [
        "x=np.zeros((5,5))\n",
        "x+=np.arange(0,5)\n",
        "x"
      ]
    },
    {
      "cell_type": "markdown",
      "metadata": {
        "id": "HMZLuaI-ukbS"
      },
      "source": [
        "#### 38. Consider a generator function that generates 10 integers and use it to build an array (★☆☆) \n",
        "(**hint**: np.fromiter)"
      ]
    },
    {
      "cell_type": "code",
      "execution_count": 47,
      "metadata": {
        "id": "fzwC8RczukbS"
      },
      "outputs": [],
      "source": [
        "def generate():\n",
        "     for x in range(10):\n",
        "         yield x"
      ]
    },
    {
      "cell_type": "markdown",
      "metadata": {
        "id": "ulxITkYjukbS"
      },
      "source": [
        "#### 39. Create a vector of size 10 with values ranging from 0 to 1, both excluded (★★☆) \n",
        "(**hint**: np.linspace)"
      ]
    },
    {
      "cell_type": "code",
      "execution_count": 49,
      "metadata": {
        "id": "daTi5_BZukbT",
        "colab": {
          "base_uri": "https://localhost:8080/"
        },
        "outputId": "3279a2d9-51a2-4f96-d9e4-5d8941cb5aef"
      },
      "outputs": [
        {
          "output_type": "stream",
          "name": "stdout",
          "text": [
            "[0.09090909 0.18181818 0.27272727 0.36363636 0.45454545 0.54545455\n",
            " 0.63636364 0.72727273 0.81818182 0.90909091]\n"
          ]
        }
      ],
      "source": [
        "Z = np.linspace(0,1,11,endpoint=False)[1:]\n",
        "print(Z)"
      ]
    },
    {
      "cell_type": "markdown",
      "metadata": {
        "id": "0Xp4xgl7ukbT"
      },
      "source": [
        "#### 40. Create a random vector of size 10 and sort it (★★☆) \n",
        "(**hint**: sort)"
      ]
    },
    {
      "cell_type": "code",
      "execution_count": 50,
      "metadata": {
        "id": "EaZOntfsukbT",
        "colab": {
          "base_uri": "https://localhost:8080/"
        },
        "outputId": "5211dabe-1112-4f9d-8f44-aea254ce0f11"
      },
      "outputs": [
        {
          "output_type": "stream",
          "name": "stdout",
          "text": [
            "[54 63 67 32 63 56 64 77 73 29]\n"
          ]
        },
        {
          "output_type": "execute_result",
          "data": {
            "text/plain": [
              "array([29, 32, 54, 56, 63, 63, 64, 67, 73, 77])"
            ]
          },
          "metadata": {},
          "execution_count": 50
        }
      ],
      "source": [
        "x=np.random.randint(23,78,10)\n",
        "print(x)\n",
        "np.sort(x)"
      ]
    },
    {
      "cell_type": "markdown",
      "metadata": {
        "id": "FEf-f0TfukbT"
      },
      "source": [
        "#### 41. How to sum a small array faster than np.sum? (★★☆) \n",
        "(**hint**: np.add.reduce)"
      ]
    },
    {
      "cell_type": "code",
      "execution_count": 51,
      "metadata": {
        "id": "8cJKVHAKukbT",
        "colab": {
          "base_uri": "https://localhost:8080/"
        },
        "outputId": "ccf39234-ee67-4fe9-b791-8a601562dabd"
      },
      "outputs": [
        {
          "output_type": "stream",
          "name": "stdout",
          "text": [
            "8.860588073730469\n",
            "2.886056900024414\n"
          ]
        }
      ],
      "source": [
        "import time\n",
        "\n",
        "begin_time = time.time()\n",
        "x = np.arange(1000000)\n",
        "np.sum(x)\n",
        "end_time = time.time()\n",
        "print(str(1000*(end_time - begin_time)))\n",
        "\n",
        "begin_time2 = time.time()\n",
        "x = np.arange(1000000)\n",
        "np.add.reduce(x)\n",
        "end_time2 = time.time()\n",
        "print(str(1000*(end_time2 - begin_time2)))"
      ]
    },
    {
      "cell_type": "markdown",
      "metadata": {
        "id": "el4H81VIukbT"
      },
      "source": [
        "#### 42. Consider two random array A and B, check if they are equal (★★☆) \n",
        "(**hint**: np.allclose, np.array\\_equal)"
      ]
    },
    {
      "cell_type": "code",
      "execution_count": 52,
      "metadata": {
        "id": "y1g71HcYukbT",
        "colab": {
          "base_uri": "https://localhost:8080/"
        },
        "outputId": "480066c6-1e00-4a17-8109-934fe3485509"
      },
      "outputs": [
        {
          "output_type": "stream",
          "name": "stdout",
          "text": [
            "False\n",
            "False\n"
          ]
        }
      ],
      "source": [
        "x=np.random.randint(0,2,5)\n",
        "y=np.random.randint(0,2,5)\n",
        "z=np.array_equal(x,y)\n",
        "print(z)\n",
        "z=np.allclose(x,y)\n",
        "print(z)"
      ]
    },
    {
      "cell_type": "markdown",
      "metadata": {
        "id": "0vVWwa5tukbT"
      },
      "source": [
        "#### 43. Make an array immutable (read-only) (★★☆) \n",
        "(**hint**: flags.writeable)"
      ]
    },
    {
      "cell_type": "code",
      "execution_count": 53,
      "metadata": {
        "id": "cc5AsS1pukbU"
      },
      "outputs": [],
      "source": [
        "x=np.random.randint(12,24,50)\n",
        "x.flags.writeable=True\n",
        "x[1]=2"
      ]
    },
    {
      "cell_type": "markdown",
      "metadata": {
        "id": "gojf1EY-ukbU"
      },
      "source": [
        "#### 44. Consider a random 10x2 matrix representing cartesian coordinates, convert them to polar coordinates (★★☆) \n",
        "(**hint**: np.sqrt, np.arctan2)"
      ]
    },
    {
      "cell_type": "code",
      "execution_count": 54,
      "metadata": {
        "id": "RDBVqF9WukbU",
        "colab": {
          "base_uri": "https://localhost:8080/"
        },
        "outputId": "24440059-6911-40fa-b99b-2a3dfced4fdf"
      },
      "outputs": [
        {
          "output_type": "stream",
          "name": "stdout",
          "text": [
            "[1.01478948 0.36059223 0.17701158 0.91070854 1.03556346 0.3444457\n",
            " 1.00673219 1.14229322 0.56242332 0.94616527]\n",
            "[1.14106943 0.24533588 0.05075704 1.43060725 0.2984786  0.07282732\n",
            " 0.46189192 0.85314796 0.72284269 1.03165798]\n"
          ]
        }
      ],
      "source": [
        "z=np.random.random((10,2))\n",
        "x,y=z[:,0],z[:,1]\n",
        "r=np.sqrt(x**2+y**2)\n",
        "t=np.arctan2(y,x)\n",
        "print(r)\n",
        "print(t)"
      ]
    },
    {
      "cell_type": "markdown",
      "metadata": {
        "id": "0vqUMb-pukbU"
      },
      "source": [
        "#### 45. Create random vector of size 10 and replace the maximum value by 0 (★★☆) \n",
        "(**hint**: argmax)"
      ]
    },
    {
      "cell_type": "code",
      "execution_count": 56,
      "metadata": {
        "id": "oF3HlUmYukbU",
        "colab": {
          "base_uri": "https://localhost:8080/"
        },
        "outputId": "0cf4e03b-a8aa-4e5d-8feb-616669cb1395"
      },
      "outputs": [
        {
          "output_type": "stream",
          "name": "stdout",
          "text": [
            "[0.12511015 0.39312058 0.02333238 0.07456095 0.36837795 0.62886951\n",
            " 0.69258576 0.34764635 0.49624166 0.04161886]\n"
          ]
        },
        {
          "output_type": "execute_result",
          "data": {
            "text/plain": [
              "array([0.12511015, 0.39312058, 0.02333238, 0.07456095, 0.36837795,\n",
              "       0.62886951, 0.        , 0.34764635, 0.49624166, 0.04161886])"
            ]
          },
          "metadata": {},
          "execution_count": 56
        }
      ],
      "source": [
        "x=np.random.random(10)\n",
        "print(x)\n",
        "n=np.argmax(x)\n",
        "x[n]=0\n",
        "x"
      ]
    },
    {
      "cell_type": "markdown",
      "metadata": {
        "id": "PULcpyNsukbU"
      },
      "source": [
        "#### 46. Create a structured array with `x` and `y` coordinates covering the \\[0,1\\]x\\[0,1\\] area (★★☆) \n",
        "(**hint**: np.meshgrid)"
      ]
    },
    {
      "cell_type": "code",
      "execution_count": 58,
      "metadata": {
        "id": "cbShEw6tukbU",
        "colab": {
          "base_uri": "https://localhost:8080/"
        },
        "outputId": "822166ae-a2b9-4f67-df4d-aae0ca7c13ce"
      },
      "outputs": [
        {
          "output_type": "stream",
          "name": "stdout",
          "text": [
            "[0.09090909 0.18181818 0.27272727 0.36363636 0.45454545 0.54545455\n",
            " 0.63636364 0.72727273 0.81818182 0.90909091]\n"
          ]
        }
      ],
      "source": [
        "k = np.zeros((5,5), [('x',float),('y',float)])\n",
        "k['x'],k['y']=np.meshgrid(np.linspace(0,1,5),np.linspace(0,1,5))\n",
        "print(Z)"
      ]
    },
    {
      "cell_type": "markdown",
      "metadata": {
        "id": "sRLrIiC-ukbU"
      },
      "source": [
        "####  47. Given two arrays, X and Y, construct the Cauchy matrix C (Cij =1/(xi - yj)) \n",
        "(**hint**: np.subtract.outer)"
      ]
    },
    {
      "cell_type": "code",
      "execution_count": 59,
      "metadata": {
        "id": "b7DlOc10ukbU",
        "colab": {
          "base_uri": "https://localhost:8080/"
        },
        "outputId": "1142f7b5-9b99-4e53-a0e7-4f3471dbeca5"
      },
      "outputs": [
        {
          "output_type": "stream",
          "name": "stdout",
          "text": [
            "3638.163637117973\n"
          ]
        }
      ],
      "source": [
        "X = np.arange(8)\n",
        "Y = X + 0.5\n",
        "C = 1.0 / np.subtract.outer(X, Y)\n",
        "print(np.linalg.det(C))"
      ]
    },
    {
      "cell_type": "markdown",
      "metadata": {
        "id": "-52KTmHBukbV"
      },
      "source": [
        "#### 48. Print the minimum and maximum representable value for each numpy scalar type (★★☆) \n",
        "(**hint**: np.iinfo, np.finfo, eps)"
      ]
    },
    {
      "cell_type": "code",
      "execution_count": 61,
      "metadata": {
        "id": "xHLanLewukbV",
        "colab": {
          "base_uri": "https://localhost:8080/"
        },
        "outputId": "915dd9de-3bf2-4e93-eaf9-0deab4e1ceb1"
      },
      "outputs": [
        {
          "output_type": "stream",
          "name": "stdout",
          "text": [
            "-128\n",
            "127\n",
            "-2147483648\n",
            "2147483647\n",
            "-9223372036854775808\n",
            "9223372036854775807\n",
            "-3.4028235e+38\n",
            "3.4028235e+38\n",
            "1.1920929e-07\n",
            "-1.7976931348623157e+308\n",
            "1.7976931348623157e+308\n",
            "2.220446049250313e-16\n"
          ]
        }
      ],
      "source": [
        "for dtype in [np.int8, np.int32, np.int64]:\n",
        "   print(np.iinfo(dtype).min)\n",
        "   print(np.iinfo(dtype).max)\n",
        "for dtype in [np.float32, np.float64]:\n",
        "   print(np.finfo(dtype).min)\n",
        "   print(np.finfo(dtype).max)\n",
        "   print(np.finfo(dtype).eps)"
      ]
    },
    {
      "cell_type": "markdown",
      "metadata": {
        "id": "MdijdXFSukbV"
      },
      "source": [
        "#### 49. How to print all the values of an array? (★★☆) \n",
        "(**hint**: np.set\\_printoptions)"
      ]
    },
    {
      "cell_type": "code",
      "execution_count": 60,
      "metadata": {
        "id": "EldTnP3rukbV",
        "colab": {
          "base_uri": "https://localhost:8080/"
        },
        "outputId": "716e948e-c5ad-4a04-89a0-d2a41ace8898"
      },
      "outputs": [
        {
          "output_type": "stream",
          "name": "stdout",
          "text": [
            "[[0. 0. 0. 0. 0. 0. 0. 0. 0. 0. 0. 0. 0. 0. 0. 0.]\n",
            " [0. 0. 0. 0. 0. 0. 0. 0. 0. 0. 0. 0. 0. 0. 0. 0.]\n",
            " [0. 0. 0. 0. 0. 0. 0. 0. 0. 0. 0. 0. 0. 0. 0. 0.]\n",
            " [0. 0. 0. 0. 0. 0. 0. 0. 0. 0. 0. 0. 0. 0. 0. 0.]\n",
            " [0. 0. 0. 0. 0. 0. 0. 0. 0. 0. 0. 0. 0. 0. 0. 0.]\n",
            " [0. 0. 0. 0. 0. 0. 0. 0. 0. 0. 0. 0. 0. 0. 0. 0.]\n",
            " [0. 0. 0. 0. 0. 0. 0. 0. 0. 0. 0. 0. 0. 0. 0. 0.]\n",
            " [0. 0. 0. 0. 0. 0. 0. 0. 0. 0. 0. 0. 0. 0. 0. 0.]\n",
            " [0. 0. 0. 0. 0. 0. 0. 0. 0. 0. 0. 0. 0. 0. 0. 0.]\n",
            " [0. 0. 0. 0. 0. 0. 0. 0. 0. 0. 0. 0. 0. 0. 0. 0.]\n",
            " [0. 0. 0. 0. 0. 0. 0. 0. 0. 0. 0. 0. 0. 0. 0. 0.]\n",
            " [0. 0. 0. 0. 0. 0. 0. 0. 0. 0. 0. 0. 0. 0. 0. 0.]\n",
            " [0. 0. 0. 0. 0. 0. 0. 0. 0. 0. 0. 0. 0. 0. 0. 0.]\n",
            " [0. 0. 0. 0. 0. 0. 0. 0. 0. 0. 0. 0. 0. 0. 0. 0.]\n",
            " [0. 0. 0. 0. 0. 0. 0. 0. 0. 0. 0. 0. 0. 0. 0. 0.]\n",
            " [0. 0. 0. 0. 0. 0. 0. 0. 0. 0. 0. 0. 0. 0. 0. 0.]]\n"
          ]
        }
      ],
      "source": [
        "np.set_printoptions(threshold=np.inf)\n",
        "Z = np.zeros((16,16))\n",
        "print(Z)"
      ]
    },
    {
      "cell_type": "markdown",
      "metadata": {
        "id": "HtinUqkOukbV"
      },
      "source": [
        "#### 50. How to find the closest value (to a given scalar) in a vector? (★★☆) \n",
        "(**hint**: argmin)"
      ]
    },
    {
      "cell_type": "code",
      "execution_count": 62,
      "metadata": {
        "id": "fOVpSB5RukbV",
        "colab": {
          "base_uri": "https://localhost:8080/"
        },
        "outputId": "5a243362-fcdc-4bdd-8b9a-1c8174038eb7"
      },
      "outputs": [
        {
          "output_type": "stream",
          "name": "stdout",
          "text": [
            "array:\n",
            "[ 0  1  2  3  4  5  6  7  8  9 10 11 12 13 14 15 16 17 18 19 20 21 22 23\n",
            " 24 25 26 27 28 29 30 31 32 33 34 35 36 37 38 39 40 41 42 43 44 45 46 47\n",
            " 48 49 50 51 52 53 54 55 56 57 58 59 60 61 62 63 64 65 66 67 68 69 70 71\n",
            " 72 73 74 75 76 77 78 79 80 81 82 83 84 85 86 87 88 89 90 91 92 93 94 95\n",
            " 96 97 98 99]\n",
            "Value to compare:\n",
            "6.443801867072696\n",
            "6\n"
          ]
        }
      ],
      "source": [
        "x = np.arange(100)\n",
        "print(\"array:\")\n",
        "print(x)\n",
        "a = np.random.uniform(0,100)\n",
        "print(\"Value to compare:\")\n",
        "print(a)\n",
        "index = (np.abs(x-a)).argmin()\n",
        "print(x[index])"
      ]
    },
    {
      "cell_type": "markdown",
      "metadata": {
        "id": "dcq0vqu4ukbV"
      },
      "source": [
        "#### 51. Create a structured array representing a position (x,y) and a color (r,g,b) (★★☆) \n",
        "(**hint**: dtype)"
      ]
    },
    {
      "cell_type": "code",
      "execution_count": 63,
      "metadata": {
        "id": "A-O3UCwzukbV",
        "colab": {
          "base_uri": "https://localhost:8080/"
        },
        "outputId": "02b6a840-ea2f-426b-d1a0-d0971a8a6090"
      },
      "outputs": [
        {
          "output_type": "stream",
          "name": "stdout",
          "text": [
            "[((0., 0.), (0., 0., 0.)) ((0., 0.), (0., 0., 0.))\n",
            " ((0., 0.), (0., 0., 0.)) ((0., 0.), (0., 0., 0.))\n",
            " ((0., 0.), (0., 0., 0.)) ((0., 0.), (0., 0., 0.))\n",
            " ((0., 0.), (0., 0., 0.)) ((0., 0.), (0., 0., 0.))\n",
            " ((0., 0.), (0., 0., 0.)) ((0., 0.), (0., 0., 0.))]\n"
          ]
        },
        {
          "output_type": "stream",
          "name": "stderr",
          "text": [
            "/usr/local/lib/python3.7/dist-packages/ipykernel_launcher.py:5: FutureWarning: Passing (type, 1) or '1type' as a synonym of type is deprecated; in a future version of numpy, it will be understood as (type, (1,)) / '(1,)type'.\n",
            "  \"\"\"\n"
          ]
        }
      ],
      "source": [
        "Z = np.zeros(10, [ ('position', [ ('x', float, 1),\n",
        "                                  ('y', float, 1)]),\n",
        "                   ('color',    [ ('r', float, 1),\n",
        "                                  ('g', float, 1),\n",
        "                                  ('b', float, 1)])])\n",
        "print(Z)"
      ]
    },
    {
      "cell_type": "markdown",
      "metadata": {
        "id": "ZFkOM5DVukbV"
      },
      "source": [
        "#### 52. Consider a random vector with shape (100,2) representing coordinates, find point by point distances (★★☆) \n",
        "(**hint**: np.atleast\\_2d, T, np.sqrt)"
      ]
    },
    {
      "cell_type": "code",
      "execution_count": 64,
      "metadata": {
        "id": "ngkkkFCLukbW",
        "colab": {
          "base_uri": "https://localhost:8080/"
        },
        "outputId": "9ce58879-5218-424c-975a-f80ca399614c"
      },
      "outputs": [
        {
          "output_type": "execute_result",
          "data": {
            "text/plain": [
              "array([[0.        , 0.36870947, 0.95425609, 0.29281379, 0.68615011,\n",
              "        0.70434408, 0.89039685, 0.5431027 , 0.26450691, 0.57626196],\n",
              "       [0.36870947, 0.        , 0.79781943, 0.66146652, 0.88789161,\n",
              "        0.69828774, 0.77216835, 0.78731482, 0.24416023, 0.65369115],\n",
              "       [0.95425609, 0.79781943, 0.        , 1.14450411, 0.81360186,\n",
              "        0.37351338, 0.10541597, 0.86476088, 0.69899893, 0.53999791],\n",
              "       [0.29281379, 0.66146652, 1.14450411, 0.        , 0.63441426,\n",
              "        0.82828927, 1.06332696, 0.47254246, 0.51879146, 0.6642901 ],\n",
              "       [0.68615011, 0.88789161, 0.81360186, 0.63441426, 0.        ,\n",
              "        0.44361619, 0.70871323, 0.16188649, 0.64373936, 0.30879416],\n",
              "       [0.70434408, 0.69828774, 0.37351338, 0.82828927, 0.44361619,\n",
              "        0.        , 0.27085808, 0.49345393, 0.50162256, 0.17431345],\n",
              "       [0.89039685, 0.77216835, 0.10541597, 1.06332696, 0.70871323,\n",
              "        0.27085808, 0.        , 0.76389894, 0.64437684, 0.44077258],\n",
              "       [0.5431027 , 0.78731482, 0.86476088, 0.47254246, 0.16188649,\n",
              "        0.49345393, 0.76389894, 0.        , 0.54685528, 0.32554673],\n",
              "       [0.26450691, 0.24416023, 0.69899893, 0.51879146, 0.64373936,\n",
              "        0.50162256, 0.64437684, 0.54685528, 0.        , 0.42359902],\n",
              "       [0.57626196, 0.65369115, 0.53999791, 0.6642901 , 0.30879416,\n",
              "        0.17431345, 0.44077258, 0.32554673, 0.42359902, 0.        ]])"
            ]
          },
          "metadata": {},
          "execution_count": 64
        }
      ],
      "source": [
        "a= np.random.random((10,2))\n",
        "x,y = np.atleast_2d(a[:,0], a[:,1])\n",
        "d = np.sqrt( (x-x.T)**2 + (y-y.T)**2)\n",
        "d"
      ]
    },
    {
      "cell_type": "markdown",
      "metadata": {
        "id": "4QOycfrEukbW"
      },
      "source": [
        "#### 53. How to convert a float (32 bits) array into an integer (32 bits) in place? \n",
        "(**hint**: astype(copy=False))"
      ]
    },
    {
      "cell_type": "code",
      "execution_count": 65,
      "metadata": {
        "id": "WwteweU-ukbW",
        "colab": {
          "base_uri": "https://localhost:8080/"
        },
        "outputId": "221805ea-d15e-4eed-b1ac-8b1344e4151a"
      },
      "outputs": [
        {
          "output_type": "stream",
          "name": "stdout",
          "text": [
            "[0. 1. 2. 3. 4. 5. 6. 7. 8. 9.]\n"
          ]
        },
        {
          "output_type": "execute_result",
          "data": {
            "text/plain": [
              "array([0, 1, 2, 3, 4, 5, 6, 7, 8, 9], dtype=int32)"
            ]
          },
          "metadata": {},
          "execution_count": 65
        }
      ],
      "source": [
        "x = np.arange(10, dtype=np.float32)\n",
        "print(x)\n",
        "x=x.astype(np.int32, copy=False)\n",
        "x"
      ]
    },
    {
      "cell_type": "markdown",
      "metadata": {
        "id": "8qEIV6QEukbW"
      },
      "source": [
        "#### 54. How to read the following file? (★★☆) \n",
        "(**hint**: np.genfromtxt)"
      ]
    },
    {
      "cell_type": "markdown",
      "metadata": {
        "id": "arPF1TgYukbW"
      },
      "source": [
        "```\n",
        "1, 2, 3, 4, 5\n",
        "6,  ,  , 7, 8\n",
        " ,  , 9,10,11\n",
        "```"
      ]
    },
    {
      "cell_type": "code",
      "execution_count": 66,
      "metadata": {
        "id": "Tbmp_Z3OukbW",
        "colab": {
          "base_uri": "https://localhost:8080/"
        },
        "outputId": "00fffbc0-06b5-48a1-cfdc-23b5daebda85"
      },
      "outputs": [
        {
          "output_type": "stream",
          "name": "stdout",
          "text": [
            "[[ 1  2  3  4  5]\n",
            " [ 6 -1 -1  7  8]\n",
            " [-1 -1  9 10 11]]\n"
          ]
        },
        {
          "output_type": "stream",
          "name": "stderr",
          "text": [
            "/usr/local/lib/python3.7/dist-packages/ipykernel_launcher.py:6: DeprecationWarning: `np.int` is a deprecated alias for the builtin `int`. To silence this warning, use `int` by itself. Doing this will not modify any behavior and is safe. When replacing `np.int`, you may wish to use e.g. `np.int64` or `np.int32` to specify the precision. If you wish to review your current use, check the release note link for additional information.\n",
            "Deprecated in NumPy 1.20; for more details and guidance: https://numpy.org/devdocs/release/1.20.0-notes.html#deprecations\n",
            "  \n"
          ]
        }
      ],
      "source": [
        "from io import StringIO\n",
        "\n",
        "s = StringIO(\"\"\"1, 2, 3, 4, 5\n",
        "                6,  ,  , 7, 8\n",
        "                 ,  , 9,10,11\"\"\")\n",
        "Z = np.genfromtxt(s, delimiter=\",\", dtype=np.int)\n",
        "print(Z)"
      ]
    },
    {
      "cell_type": "markdown",
      "metadata": {
        "id": "0mps8_W4ukbX"
      },
      "source": [
        "#### 55. What is the equivalent of enumerate for numpy arrays? (★★☆) \n",
        "(**hint**: np.ndenumerate, np.ndindex)"
      ]
    },
    {
      "cell_type": "code",
      "execution_count": 67,
      "metadata": {
        "id": "WzWBXeixukbX",
        "colab": {
          "base_uri": "https://localhost:8080/"
        },
        "outputId": "9d2ca889-7fd5-481a-ef25-e31b902b8aee"
      },
      "outputs": [
        {
          "output_type": "stream",
          "name": "stdout",
          "text": [
            "[[0 1 2]\n",
            " [3 4 5]\n",
            " [6 7 8]]\n",
            "Using ndenumerate : \n",
            " [((0, 0), 0), ((0, 1), 1), ((0, 2), 2), ((1, 0), 3), ((1, 1), 4), ((1, 2), 5), ((2, 0), 6), ((2, 1), 7), ((2, 2), 8)] \n",
            "\n",
            "Using np.ndindex : \n",
            "\n",
            "[((0, 0), 0), ((0, 1), 1), ((0, 2), 2), ((1, 0), 3), ((1, 1), 4), ((1, 2), 5), ((2, 0), 6), ((2, 1), 7), ((2, 2), 8)]\n"
          ]
        }
      ],
      "source": [
        "Z = np.arange(9).reshape(3,3)\n",
        "print(Z)\n",
        "print(\"Using ndenumerate : \\n\", list(np.ndenumerate(Z)),'\\n')\n",
        "print(\"Using np.ndindex : \\n\")\n",
        "l=[]\n",
        "for index in np.ndindex(Z.shape):\n",
        "    l.append((index, Z[index]))\n",
        "print(l)"
      ]
    },
    {
      "cell_type": "markdown",
      "metadata": {
        "id": "7_jZycLBukbX"
      },
      "source": [
        "#### 56. Generate a generic 2D Gaussian-like array (★★☆) \n",
        "(**hint**: np.meshgrid, np.exp)"
      ]
    },
    {
      "cell_type": "code",
      "execution_count": 68,
      "metadata": {
        "id": "OJJp6H3AukbX",
        "colab": {
          "base_uri": "https://localhost:8080/"
        },
        "outputId": "a44f9666-abae-439f-881f-fa2d6f9b999d"
      },
      "outputs": [
        {
          "output_type": "stream",
          "name": "stdout",
          "text": [
            "[[0.36787944 0.44822088 0.51979489 0.57375342 0.60279818 0.60279818\n",
            "  0.57375342 0.51979489 0.44822088 0.36787944]\n",
            " [0.44822088 0.54610814 0.63331324 0.69905581 0.73444367 0.73444367\n",
            "  0.69905581 0.63331324 0.54610814 0.44822088]\n",
            " [0.51979489 0.63331324 0.73444367 0.81068432 0.85172308 0.85172308\n",
            "  0.81068432 0.73444367 0.63331324 0.51979489]\n",
            " [0.57375342 0.69905581 0.81068432 0.89483932 0.9401382  0.9401382\n",
            "  0.89483932 0.81068432 0.69905581 0.57375342]\n",
            " [0.60279818 0.73444367 0.85172308 0.9401382  0.98773022 0.98773022\n",
            "  0.9401382  0.85172308 0.73444367 0.60279818]\n",
            " [0.60279818 0.73444367 0.85172308 0.9401382  0.98773022 0.98773022\n",
            "  0.9401382  0.85172308 0.73444367 0.60279818]\n",
            " [0.57375342 0.69905581 0.81068432 0.89483932 0.9401382  0.9401382\n",
            "  0.89483932 0.81068432 0.69905581 0.57375342]\n",
            " [0.51979489 0.63331324 0.73444367 0.81068432 0.85172308 0.85172308\n",
            "  0.81068432 0.73444367 0.63331324 0.51979489]\n",
            " [0.44822088 0.54610814 0.63331324 0.69905581 0.73444367 0.73444367\n",
            "  0.69905581 0.63331324 0.54610814 0.44822088]\n",
            " [0.36787944 0.44822088 0.51979489 0.57375342 0.60279818 0.60279818\n",
            "  0.57375342 0.51979489 0.44822088 0.36787944]]\n"
          ]
        }
      ],
      "source": [
        "X, Y = np.meshgrid(np.linspace(-1,1,10), np.linspace(-1,1,10))\n",
        "D = np.sqrt(X*X+Y*Y)\n",
        "sigma, mu = 1.0, 0.0\n",
        "G = np.exp(-( (D-mu)**2 / ( 2.0 * sigma**2 ) ) )\n",
        "print(G)"
      ]
    },
    {
      "cell_type": "markdown",
      "metadata": {
        "id": "S3ej9Gl6ukbX"
      },
      "source": [
        "#### 57. How to randomly place p elements in a 2D array? (★★☆) \n",
        "(**hint**: np.put, np.random.choice)"
      ]
    },
    {
      "cell_type": "code",
      "execution_count": 69,
      "metadata": {
        "id": "bhZmBMspukbX",
        "colab": {
          "base_uri": "https://localhost:8080/"
        },
        "outputId": "7f6bcf0a-4b2e-4295-a44e-622953e47361"
      },
      "outputs": [
        {
          "output_type": "stream",
          "name": "stdout",
          "text": [
            "[[ 0.  0.  0.  0.  0.  0.  0.  0.  0.]\n",
            " [ 0.  0.  0.  0.  0.  0.  0. 33.  0.]\n",
            " [ 0.  0.  0.  0.  0.  0.  0.  0.  0.]\n",
            " [ 0.  0.  0.  0.  0.  0.  0.  0.  0.]\n",
            " [ 0.  0.  0.  0.  0.  0.  0.  0.  0.]\n",
            " [ 0. 55.  0.  0.  0.  0.  0.  0.  0.]\n",
            " [ 0.  0.  0.  0.  0.  0.  0.  0.  0.]\n",
            " [ 0.  0.  0. 78.  0.  0.  0.  0.  0.]\n",
            " [ 0.  0.  0.  0.  0.  0.  0.  0.  0.]]\n"
          ]
        }
      ],
      "source": [
        "n = 9\n",
        "p = 3\n",
        "Z = np.zeros((n,n))\n",
        "t= np.random.choice(range(n*n), p, replace=False)\n",
        "np.put(Z,t,[33,55,78])\n",
        "print(Z)"
      ]
    },
    {
      "cell_type": "markdown",
      "metadata": {
        "id": "5O-2r9YZukbX"
      },
      "source": [
        "#### 58. Subtract the mean of each row of a matrix (★★☆) \n",
        "(**hint**: mean(axis=,keepdims=))"
      ]
    },
    {
      "cell_type": "code",
      "execution_count": 70,
      "metadata": {
        "id": "cTGzLlBVukbX",
        "colab": {
          "base_uri": "https://localhost:8080/"
        },
        "outputId": "db9ed9bb-05d6-4313-c82c-3ec66adf6038"
      },
      "outputs": [
        {
          "output_type": "execute_result",
          "data": {
            "text/plain": [
              "array([[ 0.08720647,  0.07146957,  0.00137987,  0.24369408, -0.27142739,\n",
              "         0.22150353,  0.3679425 , -0.2642276 , -0.04624062, -0.36798899,\n",
              "         0.53943992, -0.34736711,  0.34470924, -0.33846723, -0.24162623],\n",
              "       [-0.14609258, -0.10191967, -0.01094427, -0.29439869, -0.48755936,\n",
              "         0.26934079,  0.10097681,  0.09751745, -0.40446411, -0.24451895,\n",
              "        -0.02474935,  0.37343244,  0.13085671,  0.40412067,  0.3384021 ],\n",
              "       [ 0.23994911,  0.45715962, -0.42909315, -0.45283293,  0.41846243,\n",
              "         0.43604153, -0.048184  , -0.28088014,  0.1357007 , -0.46434004,\n",
              "         0.14152873, -0.41372582,  0.46939635, -0.43513651,  0.22595412],\n",
              "       [-0.3600213 , -0.18076928,  0.00067826,  0.02351831, -0.22286929,\n",
              "        -0.43379222,  0.18062544,  0.28368837,  0.09175393,  0.34075588,\n",
              "        -0.13851594,  0.27518492,  0.16983369,  0.03433029, -0.06440105],\n",
              "       [ 0.35773759, -0.4748742 , -0.2063789 ,  0.49840957, -0.45039969,\n",
              "         0.2661963 , -0.39643653,  0.25304846, -0.09286784,  0.03685302,\n",
              "        -0.27830483,  0.36916782,  0.18713064,  0.0932763 , -0.1625577 ]])"
            ]
          },
          "metadata": {},
          "execution_count": 70
        }
      ],
      "source": [
        "X = np.random.rand(5, 15)\n",
        "Y = X - X.mean(axis=1, keepdims=True)\n",
        "Y"
      ]
    },
    {
      "cell_type": "markdown",
      "metadata": {
        "id": "nIkVpZMjukbX"
      },
      "source": [
        "#### 59. How to sort an array by the nth column? (★★☆) \n",
        "(**hint**: argsort)"
      ]
    },
    {
      "cell_type": "code",
      "execution_count": 71,
      "metadata": {
        "id": "_PUsqN3iukbY",
        "colab": {
          "base_uri": "https://localhost:8080/"
        },
        "outputId": "369c091c-5582-4baa-f8b1-9845a70b864a"
      },
      "outputs": [
        {
          "output_type": "stream",
          "name": "stdout",
          "text": [
            "[[4 0 5]\n",
            " [5 5 2]\n",
            " [4 0 4]] \n",
            "\n",
            "[0 5 0] \n",
            "\n",
            "[0 2 1] \n",
            "\n",
            "[[4 0 5]\n",
            " [4 0 4]\n",
            " [5 5 2]]\n"
          ]
        }
      ],
      "source": [
        "A= np.random.randint(0,6,(3,3))\n",
        "print(A,'\\n')\n",
        "print(A[:,1],\"\\n\")\n",
        "print(A[:,1].argsort(),\"\\n\")\n",
        "print(A[A[:,1].argsort()])"
      ]
    },
    {
      "cell_type": "markdown",
      "metadata": {
        "id": "_IkbWsysukbY"
      },
      "source": [
        "#### 60. How to tell if a given 2D array has null columns? (★★☆) \n",
        "(**hint**: any, ~)"
      ]
    },
    {
      "cell_type": "code",
      "execution_count": 72,
      "metadata": {
        "id": "VOKSNmaNukbY",
        "colab": {
          "base_uri": "https://localhost:8080/"
        },
        "outputId": "16e53356-26e1-4a78-bb0d-79ec58a40943"
      },
      "outputs": [
        {
          "output_type": "stream",
          "name": "stdout",
          "text": [
            "[[1 4 3 3 2 1 1 4 2 0]\n",
            " [2 2 2 2 2 3 2 2 3 2]\n",
            " [3 2 3 0 0 0 4 4 2 3]] \n",
            "\n",
            "[False False False False False False False False False False] \n",
            "\n",
            "False\n"
          ]
        }
      ],
      "source": [
        "Z = np.random.randint(0,5,(3,10))\n",
        "print(Z,\"\\n\")\n",
        "print((~Z.any(axis=0)),\"\\n\")\n",
        "print((~Z.any(axis=0)).any())"
      ]
    },
    {
      "cell_type": "markdown",
      "metadata": {
        "id": "et42_RvmukbY"
      },
      "source": [
        "#### 61. Find the nearest value from a given value in an array (★★☆) \n",
        "(**hint**: np.abs, argmin, flat)"
      ]
    },
    {
      "cell_type": "code",
      "execution_count": 76,
      "metadata": {
        "id": "lB5mQkLFukbY",
        "colab": {
          "base_uri": "https://localhost:8080/"
        },
        "outputId": "7df44037-24fa-47b3-bcab-ae68826a5744"
      },
      "outputs": [
        {
          "output_type": "stream",
          "name": "stdout",
          "text": [
            "0.48844284904536395\n"
          ]
        }
      ],
      "source": [
        "Z = np.random.uniform(0,1,10)\n",
        "z = 0.5\n",
        "m = Z.flat[np.abs(Z - z).argmin()]\n",
        "print(m)"
      ]
    },
    {
      "cell_type": "markdown",
      "metadata": {
        "id": "AI0OP_28ukbY"
      },
      "source": [
        "#### 62. Considering two arrays with shape (1,3) and (3,1), how to compute their sum using an iterator? (★★☆) \n",
        "(**hint**: np.nditer)"
      ]
    },
    {
      "cell_type": "code",
      "execution_count": 77,
      "metadata": {
        "id": "HHlpUINsukbY",
        "colab": {
          "base_uri": "https://localhost:8080/"
        },
        "outputId": "cb0e4a81-1473-416d-e226-3afdd6b28a9f"
      },
      "outputs": [
        {
          "output_type": "stream",
          "name": "stdout",
          "text": [
            "[[0 1 2]\n",
            " [1 2 3]\n",
            " [2 3 4]]\n"
          ]
        }
      ],
      "source": [
        "A = np.arange(3).reshape(3,1)\n",
        "B = np.arange(3).reshape(1,3)\n",
        "it = np.nditer([A,B,None])\n",
        "for x,y,z in it: z[...] = x + y\n",
        "print(it.operands[2])"
      ]
    },
    {
      "cell_type": "markdown",
      "metadata": {
        "id": "ZEcB-Xv6ukbY"
      },
      "source": [
        "#### 63. Create an array class that has a name attribute (★★☆) \n",
        "(**hint**: class method)"
      ]
    },
    {
      "cell_type": "code",
      "execution_count": 78,
      "metadata": {
        "id": "PTKvBIpLukbZ",
        "colab": {
          "base_uri": "https://localhost:8080/"
        },
        "outputId": "173d9c91-f079-4ebf-aa69-b0ffad4df68c"
      },
      "outputs": [
        {
          "output_type": "stream",
          "name": "stdout",
          "text": [
            "[0 1 2 3 4 5 6 7 8 9]\n"
          ]
        }
      ],
      "source": [
        "class NamedArray(np.ndarray):\n",
        "    def __new__(cls, array, name=\"no name\"):\n",
        "        obj = np.asarray(array).view(cls)\n",
        "        obj.name = name\n",
        "        return obj\n",
        "    def __array_finalize__(self, obj):\n",
        "        if obj is None: return\n",
        "        self.info = getattr(obj, 'name', \"no name\")\n",
        "Z = NamedArray(np.arange(10), \"Array1\")\n",
        "print (Z)"
      ]
    },
    {
      "cell_type": "markdown",
      "metadata": {
        "id": "v0lzhaaqukbZ"
      },
      "source": [
        "#### 64. Consider a given vector, how to add 1 to each element indexed by a second vector (be careful with repeated indices)? (★★★) \n",
        "(**hint**: np.bincount | np.add.at)"
      ]
    },
    {
      "cell_type": "code",
      "execution_count": 79,
      "metadata": {
        "id": "iEUAWB-QukbZ",
        "colab": {
          "base_uri": "https://localhost:8080/"
        },
        "outputId": "9eaf2ac5-0a1c-4ce1-ae2a-80934473f0c7"
      },
      "outputs": [
        {
          "output_type": "stream",
          "name": "stdout",
          "text": [
            "[1. 1. 1. 1. 1. 1. 1. 1. 1. 1.]\n",
            "[2. 4. 4. 3. 3. 2. 3. 1. 3. 5.]\n"
          ]
        }
      ],
      "source": [
        "Z = np.ones(10)\n",
        "print(Z)\n",
        "I = np.random.randint(0,len(Z),20)\n",
        "np.add.at(Z, I, 1)\n",
        "print(Z)"
      ]
    },
    {
      "cell_type": "markdown",
      "metadata": {
        "id": "8Z1qewJgukbZ"
      },
      "source": [
        "#### 65. How to accumulate elements of a vector (X) to an array (F) based on an index list (I)? (★★★) \n",
        "(**hint**: np.bincount)"
      ]
    },
    {
      "cell_type": "code",
      "execution_count": 80,
      "metadata": {
        "id": "h5yZb0youkbZ",
        "colab": {
          "base_uri": "https://localhost:8080/"
        },
        "outputId": "1ea50856-1d81-4a7e-b307-770d9f25552b"
      },
      "outputs": [
        {
          "output_type": "stream",
          "name": "stdout",
          "text": [
            "[0. 7. 0. 6. 5. 0. 0. 0. 0. 3.]\n"
          ]
        }
      ],
      "source": [
        "X = [1,2,3,4,5,6]\n",
        "I = [1,3,9,3,4,1]\n",
        "F = np.bincount(I,X)\n",
        "print(F)"
      ]
    },
    {
      "cell_type": "markdown",
      "metadata": {
        "id": "fW1W8UylukbZ"
      },
      "source": [
        "#### 66. Considering a (w,h,3) image of (dtype=ubyte), compute the number of unique colors (★★★) \n",
        "(**hint**: np.unique)"
      ]
    },
    {
      "cell_type": "code",
      "execution_count": 81,
      "metadata": {
        "id": "ah3hid6NukbZ",
        "colab": {
          "base_uri": "https://localhost:8080/"
        },
        "outputId": "a5690b64-47ad-4627-91b8-20800cc6e285"
      },
      "outputs": [
        {
          "output_type": "stream",
          "name": "stdout",
          "text": [
            "8\n"
          ]
        }
      ],
      "source": [
        "w,h = 16,16\n",
        "I = np.random.randint(0,2,(h,w,3)).astype(np.ubyte)\n",
        "F = I[...,0]*(256*256) + I[...,1]*256 +I[...,2]\n",
        "n = len(np.unique(F))\n",
        "print(n)"
      ]
    },
    {
      "cell_type": "markdown",
      "metadata": {
        "id": "6rFv8-OeukbZ"
      },
      "source": [
        "#### 67. Considering a four dimensions array, how to get sum over the last two axis at once? (★★★) \n",
        "(**hint**: sum(axis=(-2,-1)))"
      ]
    },
    {
      "cell_type": "code",
      "execution_count": 82,
      "metadata": {
        "id": "Rlmn7_Hlukba",
        "colab": {
          "base_uri": "https://localhost:8080/"
        },
        "outputId": "065bbede-95fd-4c5e-a7cc-c6d6972de3b4"
      },
      "outputs": [
        {
          "output_type": "stream",
          "name": "stdout",
          "text": [
            "[[61 70 79 61]\n",
            " [66 49 53 48]\n",
            " [61 47 45 38]]\n"
          ]
        }
      ],
      "source": [
        "A = np.random.randint(0,10,(3,4,3,4))\n",
        "sum = A.sum(axis=(-2,-1))\n",
        "print(sum)"
      ]
    },
    {
      "cell_type": "markdown",
      "metadata": {
        "id": "Z2eo04fvukba"
      },
      "source": [
        "#### 68. Considering a one-dimensional vector D, how to compute means of subsets of D using a vector S of same size describing subset  indices? (★★★) \n",
        "(**hint**: np.bincount)"
      ]
    },
    {
      "cell_type": "code",
      "execution_count": 83,
      "metadata": {
        "id": "_n4hru9Sukba",
        "colab": {
          "base_uri": "https://localhost:8080/"
        },
        "outputId": "03c24cd1-4a35-443b-d8e1-b4c7e0614052"
      },
      "outputs": [
        {
          "output_type": "stream",
          "name": "stdout",
          "text": [
            "[0.4892114  0.65092621 0.45942337 0.59476289 0.39582237 0.55164875\n",
            " 0.64177083 0.51322541 0.47746137 0.77543167]\n"
          ]
        }
      ],
      "source": [
        "D = np.random.uniform(0,1,100)\n",
        "\n",
        "S = np.random.randint(0,10,100)\n",
        "D_sums = np.bincount(S, weights=D)\n",
        "\n",
        "D_counts = np.bincount(S)\n",
        "\n",
        "D_means = D_sums / D_counts\n",
        "print(D_means)"
      ]
    },
    {
      "cell_type": "markdown",
      "metadata": {
        "id": "-QrTjXL-ukba"
      },
      "source": [
        "#### 69. How to get the diagonal of a dot product? (★★★) \n",
        "(**hint**: np.diag)"
      ]
    },
    {
      "cell_type": "code",
      "execution_count": 84,
      "metadata": {
        "id": "E2QtcFdcukbb",
        "colab": {
          "base_uri": "https://localhost:8080/"
        },
        "outputId": "06f5cf0d-2671-4b40-a375-b74ae0a7164f"
      },
      "outputs": [
        {
          "output_type": "execute_result",
          "data": {
            "text/plain": [
              "array([0.46997131, 0.72940103, 0.63309089, 0.83888294])"
            ]
          },
          "metadata": {},
          "execution_count": 84
        }
      ],
      "source": [
        "A = np.random.uniform(0,1,(4,4))\n",
        "B = np.random.uniform(0,1,(4,4))\n",
        "\n",
        "np.diag(np.dot(A, B))"
      ]
    },
    {
      "cell_type": "markdown",
      "metadata": {
        "id": "m7bfQAIKukbb"
      },
      "source": [
        "#### 70. Consider the vector \\[1, 2, 3, 4, 5\\], how to build a new vector with 3 consecutive zeros interleaved between each value? (★★★) \n",
        "(**hint**: array\\[::4\\])"
      ]
    },
    {
      "cell_type": "code",
      "execution_count": 85,
      "metadata": {
        "id": "T7zTLdnaukbb",
        "colab": {
          "base_uri": "https://localhost:8080/"
        },
        "outputId": "c6e84fb5-9428-4676-c3da-29815d6f53a5"
      },
      "outputs": [
        {
          "output_type": "stream",
          "name": "stdout",
          "text": [
            "[1. 0. 0. 0. 2. 0. 0. 0. 3. 0. 0. 0. 4. 0. 0. 0. 5.]\n"
          ]
        }
      ],
      "source": [
        "Z = np.array([1,2,3,4,5])\n",
        "nz = 3\n",
        "Z0 = np.zeros(len(Z) + (len(Z)-1)*(nz))\n",
        "Z0[::nz+1] = Z\n",
        "print(Z0)"
      ]
    },
    {
      "cell_type": "markdown",
      "metadata": {
        "id": "y0twbr73ukbb"
      },
      "source": [
        "#### 71. Consider an array of dimension (5,5,3), how to mulitply it by an array with dimensions (5,5)? (★★★) \n",
        "(**hint**: array\\[:, :, None\\])"
      ]
    },
    {
      "cell_type": "code",
      "execution_count": 86,
      "metadata": {
        "collapsed": true,
        "id": "lDb1j8Dvukbb",
        "colab": {
          "base_uri": "https://localhost:8080/"
        },
        "outputId": "75473501-c05a-4e39-c3f0-0bc28a318fc7"
      },
      "outputs": [
        {
          "output_type": "stream",
          "name": "stdout",
          "text": [
            "[[[2. 2. 2.]\n",
            "  [2. 2. 2.]\n",
            "  [2. 2. 2.]\n",
            "  [2. 2. 2.]\n",
            "  [2. 2. 2.]]\n",
            "\n",
            " [[2. 2. 2.]\n",
            "  [2. 2. 2.]\n",
            "  [2. 2. 2.]\n",
            "  [2. 2. 2.]\n",
            "  [2. 2. 2.]]\n",
            "\n",
            " [[2. 2. 2.]\n",
            "  [2. 2. 2.]\n",
            "  [2. 2. 2.]\n",
            "  [2. 2. 2.]\n",
            "  [2. 2. 2.]]\n",
            "\n",
            " [[2. 2. 2.]\n",
            "  [2. 2. 2.]\n",
            "  [2. 2. 2.]\n",
            "  [2. 2. 2.]\n",
            "  [2. 2. 2.]]\n",
            "\n",
            " [[2. 2. 2.]\n",
            "  [2. 2. 2.]\n",
            "  [2. 2. 2.]\n",
            "  [2. 2. 2.]\n",
            "  [2. 2. 2.]]]\n"
          ]
        }
      ],
      "source": [
        "A = np.ones((5,5,3))\n",
        "B = 2*np.ones((5,5))\n",
        "print(A * B[:,:,None])"
      ]
    },
    {
      "cell_type": "markdown",
      "metadata": {
        "id": "qunqx7P5ukbc"
      },
      "source": [
        "#### 72. How to swap two rows of an array? (★★★) \n",
        "(**hint**: array\\[\\[\\]\\] = array\\[\\[\\]\\])"
      ]
    },
    {
      "cell_type": "code",
      "execution_count": 87,
      "metadata": {
        "id": "74yS-ZCLukbc",
        "colab": {
          "base_uri": "https://localhost:8080/"
        },
        "outputId": "24784686-6381-44d3-ec29-53000e995e85"
      },
      "outputs": [
        {
          "output_type": "stream",
          "name": "stdout",
          "text": [
            "[[ 0  1  2  3  4]\n",
            " [ 5  6  7  8  9]\n",
            " [10 11 12 13 14]\n",
            " [15 16 17 18 19]\n",
            " [20 21 22 23 24]] \n",
            "\n",
            "[[ 5  6  7  8  9]\n",
            " [ 0  1  2  3  4]\n",
            " [10 11 12 13 14]\n",
            " [15 16 17 18 19]\n",
            " [20 21 22 23 24]]\n"
          ]
        }
      ],
      "source": [
        "A = np.arange(25).reshape(5,5)\n",
        "print(A,\"\\n\")\n",
        "A[[0,1]] = A[[1,0]]\n",
        "print(A)"
      ]
    },
    {
      "cell_type": "markdown",
      "metadata": {
        "id": "5o1ggswrukbc"
      },
      "source": [
        "#### 73. Consider a set of 10 triplets describing 10 triangles (with shared vertices), find the set of unique line segments composing all the  triangles (★★★) \n",
        "(**hint**: repeat, np.roll, np.sort, view, np.unique)"
      ]
    },
    {
      "cell_type": "code",
      "execution_count": 88,
      "metadata": {
        "id": "ct2_PDl8ukbc",
        "colab": {
          "base_uri": "https://localhost:8080/"
        },
        "outputId": "09be18a3-858e-4e0c-bcd1-cee9bc8e07d3"
      },
      "outputs": [
        {
          "output_type": "stream",
          "name": "stdout",
          "text": [
            "[( 2, 54) ( 2, 72) ( 8, 55) ( 8, 60) ( 8, 77) ( 8, 79) (13, 14) (13, 32)\n",
            " (14, 32) (17, 39) (17, 92) (20, 69) (20, 70) (26, 41) (26, 77) (33, 42)\n",
            " (33, 62) (38, 76) (38, 82) (39, 92) (41, 77) (42, 62) (45, 54) (45, 67)\n",
            " (54, 67) (54, 72) (55, 60) (69, 70) (76, 82) (77, 79)]\n"
          ]
        }
      ],
      "source": [
        "faces = np.random.randint(0,100,(10,3))\n",
        "\n",
        "F = np.roll(faces.repeat(2,axis=1),-1,axis=1)\n",
        "F = F.reshape(len(F)*3,2)\n",
        "F = np.sort(F,axis=1)\n",
        "G = F.view( dtype=[('p0',F.dtype),('p1',F.dtype)] )\n",
        "G = np.unique(G)\n",
        "print(G)"
      ]
    },
    {
      "cell_type": "markdown",
      "metadata": {
        "id": "kgm1CEBTukbd"
      },
      "source": [
        "#### 74. Given an array C that is a bincount, how to produce an array A such that np.bincount(A) == C? (★★★) \n",
        "(**hint**: np.repeat)"
      ]
    },
    {
      "cell_type": "code",
      "execution_count": 89,
      "metadata": {
        "id": "lRTxTwfZukbd",
        "colab": {
          "base_uri": "https://localhost:8080/"
        },
        "outputId": "d273ee8e-9c02-4a99-bce5-5def9afb294f"
      },
      "outputs": [
        {
          "output_type": "stream",
          "name": "stdout",
          "text": [
            "[0 2 1 1 2 0 1]\n",
            "[0 1 2 3 4 5 6] \n",
            "\n",
            "[1 1 2 3 4 4 6]\n"
          ]
        }
      ],
      "source": [
        "C = np.bincount([1,1,2,3,4,4,6]) \n",
        "print(C)\n",
        "print(np.arange(len(C)),\"\\n\")\n",
        "A = np.repeat(np.arange(len(C)), C)\n",
        "print(A)"
      ]
    },
    {
      "cell_type": "markdown",
      "metadata": {
        "id": "ZxJmPCkGukbd"
      },
      "source": [
        "#### 75. How to compute averages using a sliding window over an array? (★★★) \n",
        "(**hint**: np.cumsum)"
      ]
    },
    {
      "cell_type": "code",
      "execution_count": 90,
      "metadata": {
        "id": "oVMqGqsmukbd",
        "colab": {
          "base_uri": "https://localhost:8080/"
        },
        "outputId": "42538b3f-4bb6-48d2-c1bd-fc62de469805"
      },
      "outputs": [
        {
          "output_type": "stream",
          "name": "stdout",
          "text": [
            "[ 1.  2.  3.  4.  5.  6.  7.  8.  9. 10. 11. 12. 13. 14. 15. 16. 17. 18.]\n"
          ]
        }
      ],
      "source": [
        "def moving_average(a, n=3) :\n",
        "    ret = np.cumsum(a, dtype=float)\n",
        "    ret[n:] = ret[n:] - ret[:-n]\n",
        "    return ret[n - 1:] / n\n",
        "Z = np.arange(20)\n",
        "print(moving_average(Z, n=3))"
      ]
    },
    {
      "cell_type": "markdown",
      "metadata": {
        "id": "7wtKg4g7ukbe"
      },
      "source": [
        "#### 76. Consider a one-dimensional array Z, build a two-dimensional array whose first row is (Z\\[0\\],Z\\[1\\],Z\\[2\\]) and each subsequent row is  shifted by 1 (last row should be (Z\\[-3\\],Z\\[-2\\],Z\\[-1\\]) (★★★) \n",
        "(**hint**: from numpy.lib import stride_tricks)"
      ]
    },
    {
      "cell_type": "code",
      "execution_count": 91,
      "metadata": {
        "id": "R05ZoHpbukbe",
        "colab": {
          "base_uri": "https://localhost:8080/"
        },
        "outputId": "43c04b25-987f-492f-a9b8-9c0bf696728f"
      },
      "outputs": [
        {
          "output_type": "stream",
          "name": "stdout",
          "text": [
            "[[0 1 2]\n",
            " [1 2 3]\n",
            " [2 3 4]\n",
            " [3 4 5]\n",
            " [4 5 6]\n",
            " [5 6 7]\n",
            " [6 7 8]\n",
            " [7 8 9]]\n"
          ]
        }
      ],
      "source": [
        "from numpy.lib import stride_tricks\n",
        "\n",
        "def rolling(a, window):\n",
        "    shape = (a.size - window + 1, window)\n",
        "    strides = (a.itemsize, a.itemsize)\n",
        "    return stride_tricks.as_strided(a, shape=shape, strides=strides)\n",
        "Z = rolling(np.arange(10), 3)\n",
        "print(Z)"
      ]
    },
    {
      "cell_type": "markdown",
      "metadata": {
        "id": "YdGEyz-Tukbe"
      },
      "source": [
        "#### 77. How to negate a boolean, or to change the sign of a float inplace? (★★★) \n",
        "(**hint**: np.logical_not, np.negative)"
      ]
    },
    {
      "cell_type": "code",
      "execution_count": 92,
      "metadata": {
        "id": "j_DAuuxpukbe",
        "colab": {
          "base_uri": "https://localhost:8080/"
        },
        "outputId": "d575ce83-2911-43f3-a6a2-56e5819d2f3b"
      },
      "outputs": [
        {
          "output_type": "stream",
          "name": "stdout",
          "text": [
            "[0 1 0 0 0 1 1 1 0 0 0 0 1 1 0 1 0 1 1 0 1 0 1 0 1 0 1 1 0 1 1 0 1 1 1 0 0\n",
            " 1 1 1 0 0 1 1 0 0 1 1 1 1 1 0 0 1 1 1 1 1 0 0 1 1 1 1 0 0 1 0 1 1 1 0 0 1\n",
            " 0 0 0 1 0 1 0 0 0 1 0 1 0 0 0 0 0 1 0 0 0 1 1 0 0 1] \n",
            "\n",
            "[1 0 1 1 1 0 0 0 1 1 1 1 0 0 1 0 1 0 0 1 0 1 0 1 0 1 0 0 1 0 0 1 0 0 0 1 1\n",
            " 0 0 0 1 1 0 0 1 1 0 0 0 0 0 1 1 0 0 0 0 0 1 1 0 0 0 0 1 1 0 1 0 0 0 1 1 0\n",
            " 1 1 1 0 1 0 1 1 1 0 1 0 1 1 1 1 1 0 1 1 1 0 0 1 1 0]\n",
            "[ 0.38139675  0.43270507  0.54614945  0.90618717  0.07131561  0.26833628\n",
            "  0.99343881  0.76935724  0.56043719  0.00947064 -0.08047913  0.83350794\n",
            " -0.84095359  0.4175835  -0.60803975 -0.8214182   0.16597263 -0.06616185\n",
            " -0.22008502 -0.59393743 -0.01172119 -0.9694233  -0.04386377  0.04526244\n",
            " -0.98955957  0.89808534 -0.20058982  0.85874088  0.83133616 -0.7725698\n",
            "  0.0650617  -0.93694179  0.85855085 -0.27937962 -0.34532979  0.21110971\n",
            " -0.43343942  0.71830299 -0.87580354 -0.73421607  0.92255197 -0.46672168\n",
            " -0.86271208 -0.08852231 -0.14057578 -0.22222591  0.10353345 -0.43715547\n",
            " -0.32933008  0.57862054 -0.60798482 -0.62505595  0.28729356  0.43165302\n",
            "  0.79379772  0.38906109 -0.00462174  0.83364937 -0.94046129 -0.15578789\n",
            " -0.13306785  0.8320233  -0.59699886 -0.65281882  0.20065476 -0.68918578\n",
            "  0.259772    0.24935425  0.6984841  -0.62725605 -0.65083407  0.75693608\n",
            "  0.74391311  0.00621499 -0.52284866  0.18460006 -0.35502556  0.76358436\n",
            " -0.85539786 -0.35926209 -0.61941119 -0.321318   -0.53898179 -0.45918811\n",
            " -0.77646451  0.55871498 -0.24848015 -0.34936587 -0.69964249  0.72151352\n",
            " -0.3920663   0.95929385  0.82415206  0.34343537 -0.36297479  0.6851308\n",
            "  0.47034531 -0.94885985 -0.26584109  0.44781577]\n"
          ]
        },
        {
          "output_type": "execute_result",
          "data": {
            "text/plain": [
              "array([-0.38139675, -0.43270507, -0.54614945, -0.90618717, -0.07131561,\n",
              "       -0.26833628, -0.99343881, -0.76935724, -0.56043719, -0.00947064,\n",
              "        0.08047913, -0.83350794,  0.84095359, -0.4175835 ,  0.60803975,\n",
              "        0.8214182 , -0.16597263,  0.06616185,  0.22008502,  0.59393743,\n",
              "        0.01172119,  0.9694233 ,  0.04386377, -0.04526244,  0.98955957,\n",
              "       -0.89808534,  0.20058982, -0.85874088, -0.83133616,  0.7725698 ,\n",
              "       -0.0650617 ,  0.93694179, -0.85855085,  0.27937962,  0.34532979,\n",
              "       -0.21110971,  0.43343942, -0.71830299,  0.87580354,  0.73421607,\n",
              "       -0.92255197,  0.46672168,  0.86271208,  0.08852231,  0.14057578,\n",
              "        0.22222591, -0.10353345,  0.43715547,  0.32933008, -0.57862054,\n",
              "        0.60798482,  0.62505595, -0.28729356, -0.43165302, -0.79379772,\n",
              "       -0.38906109,  0.00462174, -0.83364937,  0.94046129,  0.15578789,\n",
              "        0.13306785, -0.8320233 ,  0.59699886,  0.65281882, -0.20065476,\n",
              "        0.68918578, -0.259772  , -0.24935425, -0.6984841 ,  0.62725605,\n",
              "        0.65083407, -0.75693608, -0.74391311, -0.00621499,  0.52284866,\n",
              "       -0.18460006,  0.35502556, -0.76358436,  0.85539786,  0.35926209,\n",
              "        0.61941119,  0.321318  ,  0.53898179,  0.45918811,  0.77646451,\n",
              "       -0.55871498,  0.24848015,  0.34936587,  0.69964249, -0.72151352,\n",
              "        0.3920663 , -0.95929385, -0.82415206, -0.34343537,  0.36297479,\n",
              "       -0.6851308 , -0.47034531,  0.94885985,  0.26584109, -0.44781577])"
            ]
          },
          "metadata": {},
          "execution_count": 92
        }
      ],
      "source": [
        "Z = np.random.randint(0,2,100)\n",
        "print(Z,\"\\n\")\n",
        "print(np.logical_not(Z, out=Z))\n",
        "\n",
        "Z = np.random.uniform(-1.0,1.0,100)\n",
        "print(Z)\n",
        "np.negative(Z, out=Z)"
      ]
    },
    {
      "cell_type": "markdown",
      "metadata": {
        "id": "UMBMExq-ukbe"
      },
      "source": [
        "#### 78. Consider 2 sets of points P0,P1 describing lines (2d) and a point p, how to compute distance from p to each line i  (P0\\[i\\],P1\\[i\\])? (★★★)"
      ]
    },
    {
      "cell_type": "code",
      "execution_count": 93,
      "metadata": {
        "id": "r6mvfZZ0ukbf",
        "colab": {
          "base_uri": "https://localhost:8080/"
        },
        "outputId": "872c33cc-8982-40e8-c899-f8a5391d7f32"
      },
      "outputs": [
        {
          "output_type": "stream",
          "name": "stdout",
          "text": [
            "[ 4.99701846 11.23774599 12.09498335  4.61051727 13.23607817  5.88468398\n",
            "  5.23320394  2.96165574  8.41345479  2.47413798]\n"
          ]
        }
      ],
      "source": [
        "def distance(P0, P1, p):\n",
        "    T = P1 - P0\n",
        "    L = (T**2).sum(axis=1)\n",
        "    U = -((P0[:,0]-p[...,0])*T[:,0] + (P0[:,1]-p[...,1])*T[:,1]) / L\n",
        "    U = U.reshape(len(U),1)\n",
        "    D = P0 + U*T - p\n",
        "    return np.sqrt((D**2).sum(axis=1))\n",
        "\n",
        "P0 = np.random.uniform(-10,10,(10,2))\n",
        "P1 = np.random.uniform(-10,10,(10,2))\n",
        "p  = np.random.uniform(-10,10,( 1,2))\n",
        "print(distance(P0, P1, p))"
      ]
    },
    {
      "cell_type": "markdown",
      "metadata": {
        "id": "0k31Tvb6ukbf"
      },
      "source": [
        "#### 79. Consider 2 sets of points P0,P1 describing lines (2d) and a set of points P, how to compute distance from each point j (P\\[j\\]) to each line i (P0\\[i\\],P1\\[i\\])? (★★★)"
      ]
    },
    {
      "cell_type": "code",
      "execution_count": 94,
      "metadata": {
        "id": "nD4qIroRukbf",
        "colab": {
          "base_uri": "https://localhost:8080/"
        },
        "outputId": "f98b8b66-5347-4afc-ecca-4441cf67bd49"
      },
      "outputs": [
        {
          "output_type": "stream",
          "name": "stdout",
          "text": [
            "[[8.58984488e+00 2.21552011e+00 7.22186078e+00 1.05497141e+00\n",
            "  9.24712135e+00 2.49690213e+00 2.82356941e+00 3.17842620e+00\n",
            "  2.02220193e+00 1.23819413e+01]\n",
            " [1.40419358e-02 4.28567384e+00 1.52098842e+00 8.61026684e+00\n",
            "  2.77529102e-01 5.18648274e+00 5.93348269e+00 3.30813595e+00\n",
            "  1.63453045e+00 2.57140045e+00]\n",
            " [6.81638842e+00 1.36856736e+00 5.84352057e+00 2.70786970e+00\n",
            "  7.40136174e+00 1.38145898e+00 1.03183909e+00 3.64101867e+00\n",
            "  1.76761392e+00 1.05452768e+01]\n",
            " [7.11743538e-01 1.46568596e+01 1.07430562e+01 7.46346659e+00\n",
            "  3.52990930e+00 1.51836076e+01 7.05380274e+00 5.28360770e+00\n",
            "  1.18466467e+01 2.05187122e+00]\n",
            " [2.12819180e+00 8.31488696e+00 5.78227829e+00 1.00601225e+01\n",
            "  3.25589630e+00 9.39489409e+00 8.21385958e+00 1.23367955e+00\n",
            "  4.97319729e+00 8.08196015e-01]\n",
            " [6.85527070e+00 1.44082353e+01 7.76834628e+00 2.01197594e-01\n",
            "  3.50738479e+00 1.36269291e+01 4.61251158e-01 1.02051364e+01\n",
            "  1.41535162e+01 4.48516900e+00]\n",
            " [2.87443845e-01 3.94850712e+00 1.13006544e+00 8.39302612e+00\n",
            "  5.84803948e-02 4.81789824e+00 5.64928673e+00 3.41779115e+00\n",
            "  1.38696676e+00 2.93433741e+00]\n",
            " [5.90629231e+00 4.32739664e-02 4.29220004e+00 3.37836624e+00\n",
            "  6.21075086e+00 1.20990321e-01 7.46346527e-02 3.02242390e+00\n",
            "  6.51634682e-01 9.22533457e+00]\n",
            " [5.67079398e+00 3.58587095e-01 2.02733889e-01 1.51166855e+01\n",
            "  4.53968728e+00 2.44069064e+00 1.14204431e+01 1.06090690e+01\n",
            "  4.24661749e+00 7.50822268e-01]\n",
            " [1.21942527e+00 1.58609823e+01 1.19681992e+01 7.76173037e+00\n",
            "  4.29782946e+00 1.64181653e+01 7.60384639e+00 5.99355958e+00\n",
            "  1.28891914e+01 2.94905596e+00]]\n"
          ]
        }
      ],
      "source": [
        "a= np.random.uniform(-10, 10, (10,2))\n",
        "b = np.random.uniform(-10,10,(10,2))\n",
        "p = np.random.uniform(-10, 10, (10,2))\n",
        "print(np.array([distance(a,b,p_i) for p_i in p]))"
      ]
    },
    {
      "cell_type": "markdown",
      "metadata": {
        "id": "aed-vogAukbf"
      },
      "source": [
        "#### 80. Consider an arbitrary array, write a function that extract a subpart with a fixed shape and centered on a given element (pad with a `fill` value when necessary) (★★★) \n",
        "(**hint**: minimum, maximum)"
      ]
    },
    {
      "cell_type": "code",
      "execution_count": null,
      "metadata": {
        "id": "DQvMPWvPukbf"
      },
      "outputs": [],
      "source": []
    },
    {
      "cell_type": "markdown",
      "metadata": {
        "id": "VsZKPenCukbg"
      },
      "source": [
        "#### 81. Consider an array Z = \\[1,2,3,4,5,6,7,8,9,10,11,12,13,14\\], how to generate an array R = \\[\\[1,2,3,4\\], \\[2,3,4,5\\], \\[3,4,5,6\\], ..., \\[11,12,13,14\\]\\]? (★★★) \n",
        "(**hint**: stride\\_tricks.as\\_strided)"
      ]
    },
    {
      "cell_type": "code",
      "execution_count": 95,
      "metadata": {
        "id": "T5RsCDi1ukbg",
        "colab": {
          "base_uri": "https://localhost:8080/"
        },
        "outputId": "273ccda0-3a33-4db1-99e3-6c0ab5bdbc02"
      },
      "outputs": [
        {
          "output_type": "stream",
          "name": "stdout",
          "text": [
            "[[ 1  2  3  4]\n",
            " [ 2  3  4  5]\n",
            " [ 3  4  5  6]\n",
            " [ 4  5  6  7]\n",
            " [ 5  6  7  8]\n",
            " [ 6  7  8  9]\n",
            " [ 7  8  9 10]\n",
            " [ 8  9 10 11]\n",
            " [ 9 10 11 12]\n",
            " [10 11 12 13]\n",
            " [11 12 13 14]]\n"
          ]
        }
      ],
      "source": [
        "from numpy.lib import stride_tricks\n",
        "Z = np.arange(1,15,dtype=np.uint32)\n",
        "R = stride_tricks.as_strided(Z,(11,4),(4,4))\n",
        "print(R)"
      ]
    },
    {
      "cell_type": "markdown",
      "metadata": {
        "id": "mWDLm_n0ukbg"
      },
      "source": [
        "#### 82. Compute a matrix rank (★★★) \n",
        "(**hint**: np.linalg.svd) (suggestion: np.linalg.svd)"
      ]
    },
    {
      "cell_type": "code",
      "execution_count": 96,
      "metadata": {
        "id": "Es5VvgJRukbg",
        "colab": {
          "base_uri": "https://localhost:8080/"
        },
        "outputId": "caca437b-efbf-403a-9990-42515f6be06b"
      },
      "outputs": [
        {
          "output_type": "stream",
          "name": "stdout",
          "text": [
            "10\n"
          ]
        }
      ],
      "source": [
        "x = np.random.uniform(0,1,(10,10))\n",
        "U, S, V = np.linalg.svd(x)\n",
        "rank = np.sum(S > 1e-10)\n",
        "print(rank)"
      ]
    },
    {
      "cell_type": "markdown",
      "metadata": {
        "id": "gSbt7CYVukbg"
      },
      "source": [
        "#### 83. How to find the most frequent value in an array? \n",
        "(**hint**: np.bincount, argmax)"
      ]
    },
    {
      "cell_type": "code",
      "execution_count": 97,
      "metadata": {
        "id": "tbAcBYlsukbg",
        "colab": {
          "base_uri": "https://localhost:8080/"
        },
        "outputId": "dd866041-f43e-4f3e-8971-aa29e7a611b2"
      },
      "outputs": [
        {
          "output_type": "stream",
          "name": "stdout",
          "text": [
            "5\n"
          ]
        }
      ],
      "source": [
        "Z = np.random.randint(0,10,50)\n",
        "print(np.bincount(Z).argmax())"
      ]
    },
    {
      "cell_type": "markdown",
      "metadata": {
        "id": "dbSk60gOukbh"
      },
      "source": [
        "#### 84. Extract all the contiguous 3x3 blocks from a random 10x10 matrix (★★★) \n",
        "(**hint**: stride\\_tricks.as\\_strided)"
      ]
    },
    {
      "cell_type": "code",
      "execution_count": 99,
      "metadata": {
        "id": "DFMnwteXukbh",
        "colab": {
          "base_uri": "https://localhost:8080/"
        },
        "outputId": "e2f5ab2e-860b-4969-fe9a-3dc0b2a835eb"
      },
      "outputs": [
        {
          "output_type": "stream",
          "name": "stdout",
          "text": [
            "[[[[0 3 1]\n",
            "   [1 2 0]\n",
            "   [1 1 2]]\n",
            "\n",
            "  [[3 1 3]\n",
            "   [2 0 1]\n",
            "   [1 2 2]]\n",
            "\n",
            "  [[1 3 2]\n",
            "   [0 1 0]\n",
            "   [2 2 0]]\n",
            "\n",
            "  [[3 2 4]\n",
            "   [1 0 1]\n",
            "   [2 0 0]]\n",
            "\n",
            "  [[2 4 0]\n",
            "   [0 1 4]\n",
            "   [0 0 1]]\n",
            "\n",
            "  [[4 0 2]\n",
            "   [1 4 3]\n",
            "   [0 1 2]]\n",
            "\n",
            "  [[0 2 2]\n",
            "   [4 3 4]\n",
            "   [1 2 4]]\n",
            "\n",
            "  [[2 2 3]\n",
            "   [3 4 0]\n",
            "   [2 4 2]]]\n",
            "\n",
            "\n",
            " [[[1 2 0]\n",
            "   [1 1 2]\n",
            "   [0 1 2]]\n",
            "\n",
            "  [[2 0 1]\n",
            "   [1 2 2]\n",
            "   [1 2 3]]\n",
            "\n",
            "  [[0 1 0]\n",
            "   [2 2 0]\n",
            "   [2 3 1]]\n",
            "\n",
            "  [[1 0 1]\n",
            "   [2 0 0]\n",
            "   [3 1 1]]\n",
            "\n",
            "  [[0 1 4]\n",
            "   [0 0 1]\n",
            "   [1 1 4]]\n",
            "\n",
            "  [[1 4 3]\n",
            "   [0 1 2]\n",
            "   [1 4 0]]\n",
            "\n",
            "  [[4 3 4]\n",
            "   [1 2 4]\n",
            "   [4 0 1]]\n",
            "\n",
            "  [[3 4 0]\n",
            "   [2 4 2]\n",
            "   [0 1 2]]]\n",
            "\n",
            "\n",
            " [[[1 1 2]\n",
            "   [0 1 2]\n",
            "   [4 1 3]]\n",
            "\n",
            "  [[1 2 2]\n",
            "   [1 2 3]\n",
            "   [1 3 4]]\n",
            "\n",
            "  [[2 2 0]\n",
            "   [2 3 1]\n",
            "   [3 4 1]]\n",
            "\n",
            "  [[2 0 0]\n",
            "   [3 1 1]\n",
            "   [4 1 3]]\n",
            "\n",
            "  [[0 0 1]\n",
            "   [1 1 4]\n",
            "   [1 3 1]]\n",
            "\n",
            "  [[0 1 2]\n",
            "   [1 4 0]\n",
            "   [3 1 2]]\n",
            "\n",
            "  [[1 2 4]\n",
            "   [4 0 1]\n",
            "   [1 2 1]]\n",
            "\n",
            "  [[2 4 2]\n",
            "   [0 1 2]\n",
            "   [2 1 1]]]\n",
            "\n",
            "\n",
            " [[[0 1 2]\n",
            "   [4 1 3]\n",
            "   [2 0 3]]\n",
            "\n",
            "  [[1 2 3]\n",
            "   [1 3 4]\n",
            "   [0 3 3]]\n",
            "\n",
            "  [[2 3 1]\n",
            "   [3 4 1]\n",
            "   [3 3 3]]\n",
            "\n",
            "  [[3 1 1]\n",
            "   [4 1 3]\n",
            "   [3 3 2]]\n",
            "\n",
            "  [[1 1 4]\n",
            "   [1 3 1]\n",
            "   [3 2 1]]\n",
            "\n",
            "  [[1 4 0]\n",
            "   [3 1 2]\n",
            "   [2 1 1]]\n",
            "\n",
            "  [[4 0 1]\n",
            "   [1 2 1]\n",
            "   [1 1 4]]\n",
            "\n",
            "  [[0 1 2]\n",
            "   [2 1 1]\n",
            "   [1 4 1]]]\n",
            "\n",
            "\n",
            " [[[4 1 3]\n",
            "   [2 0 3]\n",
            "   [4 0 0]]\n",
            "\n",
            "  [[1 3 4]\n",
            "   [0 3 3]\n",
            "   [0 0 3]]\n",
            "\n",
            "  [[3 4 1]\n",
            "   [3 3 3]\n",
            "   [0 3 0]]\n",
            "\n",
            "  [[4 1 3]\n",
            "   [3 3 2]\n",
            "   [3 0 0]]\n",
            "\n",
            "  [[1 3 1]\n",
            "   [3 2 1]\n",
            "   [0 0 2]]\n",
            "\n",
            "  [[3 1 2]\n",
            "   [2 1 1]\n",
            "   [0 2 2]]\n",
            "\n",
            "  [[1 2 1]\n",
            "   [1 1 4]\n",
            "   [2 2 3]]\n",
            "\n",
            "  [[2 1 1]\n",
            "   [1 4 1]\n",
            "   [2 3 2]]]\n",
            "\n",
            "\n",
            " [[[2 0 3]\n",
            "   [4 0 0]\n",
            "   [2 0 0]]\n",
            "\n",
            "  [[0 3 3]\n",
            "   [0 0 3]\n",
            "   [0 0 2]]\n",
            "\n",
            "  [[3 3 3]\n",
            "   [0 3 0]\n",
            "   [0 2 4]]\n",
            "\n",
            "  [[3 3 2]\n",
            "   [3 0 0]\n",
            "   [2 4 1]]\n",
            "\n",
            "  [[3 2 1]\n",
            "   [0 0 2]\n",
            "   [4 1 4]]\n",
            "\n",
            "  [[2 1 1]\n",
            "   [0 2 2]\n",
            "   [1 4 2]]\n",
            "\n",
            "  [[1 1 4]\n",
            "   [2 2 3]\n",
            "   [4 2 4]]\n",
            "\n",
            "  [[1 4 1]\n",
            "   [2 3 2]\n",
            "   [2 4 0]]]\n",
            "\n",
            "\n",
            " [[[4 0 0]\n",
            "   [2 0 0]\n",
            "   [0 3 0]]\n",
            "\n",
            "  [[0 0 3]\n",
            "   [0 0 2]\n",
            "   [3 0 1]]\n",
            "\n",
            "  [[0 3 0]\n",
            "   [0 2 4]\n",
            "   [0 1 3]]\n",
            "\n",
            "  [[3 0 0]\n",
            "   [2 4 1]\n",
            "   [1 3 4]]\n",
            "\n",
            "  [[0 0 2]\n",
            "   [4 1 4]\n",
            "   [3 4 4]]\n",
            "\n",
            "  [[0 2 2]\n",
            "   [1 4 2]\n",
            "   [4 4 1]]\n",
            "\n",
            "  [[2 2 3]\n",
            "   [4 2 4]\n",
            "   [4 1 2]]\n",
            "\n",
            "  [[2 3 2]\n",
            "   [2 4 0]\n",
            "   [1 2 3]]]\n",
            "\n",
            "\n",
            " [[[2 0 0]\n",
            "   [0 3 0]\n",
            "   [2 1 1]]\n",
            "\n",
            "  [[0 0 2]\n",
            "   [3 0 1]\n",
            "   [1 1 0]]\n",
            "\n",
            "  [[0 2 4]\n",
            "   [0 1 3]\n",
            "   [1 0 2]]\n",
            "\n",
            "  [[2 4 1]\n",
            "   [1 3 4]\n",
            "   [0 2 3]]\n",
            "\n",
            "  [[4 1 4]\n",
            "   [3 4 4]\n",
            "   [2 3 0]]\n",
            "\n",
            "  [[1 4 2]\n",
            "   [4 4 1]\n",
            "   [3 0 1]]\n",
            "\n",
            "  [[4 2 4]\n",
            "   [4 1 2]\n",
            "   [0 1 2]]\n",
            "\n",
            "  [[2 4 0]\n",
            "   [1 2 3]\n",
            "   [1 2 4]]]]\n"
          ]
        }
      ],
      "source": [
        "x = np.random.randint(0,5,(10,10))\n",
        "n = 3\n",
        "i = 1 + (x.shape[0]-3)\n",
        "j = 1 + (x.shape[1]-3)\n",
        "C = stride_tricks.as_strided(x, shape=(i, j, n, n), strides=x.strides + x.strides)\n",
        "print(C)"
      ]
    },
    {
      "cell_type": "markdown",
      "metadata": {
        "id": "JGwUbt0Fukbh"
      },
      "source": [
        "#### 85. Create a 2D array subclass such that Z\\[i,j\\] == Z\\[j,i\\] (★★★) \n",
        "(**hint**: class method)"
      ]
    },
    {
      "cell_type": "code",
      "execution_count": 21,
      "metadata": {
        "id": "iTRxkz_xukbh",
        "colab": {
          "base_uri": "https://localhost:8080/"
        },
        "outputId": "5f670b66-8ab6-4ea8-c3bc-d3d305e94479"
      },
      "outputs": [
        {
          "output_type": "execute_result",
          "data": {
            "text/plain": [
              "Symetric([[ 3, 10,  5,  9,  8],\n",
              "          [10,  1, 13,  4,  6],\n",
              "          [ 5, 13,  8,  8, 11],\n",
              "          [ 9,  4,  8,  6,  1],\n",
              "          [ 8,  6, 11,  1,  4]])"
            ]
          },
          "metadata": {},
          "execution_count": 21
        }
      ],
      "source": [
        "class Symetric(np.ndarray):\n",
        "    def __setitem__(self, index, value):\n",
        "        i,j = index\n",
        "        super(Symetric, self).__setitem__((i,j), value)\n",
        "        super(Symetric, self).__setitem__((j,i), value)\n",
        "\n",
        "def symetric(Z):\n",
        "    return np.asarray(Z + Z.T - np.diag(Z.diagonal())).view(Symetric)\n",
        "\n",
        "S = symetric(np.random.randint(0,10,(5,5)))\n",
        "S"
      ]
    },
    {
      "cell_type": "markdown",
      "metadata": {
        "id": "-AJxsiijukbh"
      },
      "source": [
        "#### 86. Consider a set of p matrices wich shape (n,n) and a set of p vectors with shape (n,1). How to compute the sum of of the p matrix products at once? (result has shape (n,1)) (★★★) \n",
        "(**hint**: np.tensordot)"
      ]
    },
    {
      "cell_type": "code",
      "execution_count": 20,
      "metadata": {
        "id": "8wabRHyzukbh",
        "colab": {
          "base_uri": "https://localhost:8080/"
        },
        "outputId": "5e2c1bb4-3b4c-46dd-d483-4de6d4a9afc4"
      },
      "outputs": [
        {
          "output_type": "stream",
          "name": "stdout",
          "text": [
            "[[200.]\n",
            " [200.]\n",
            " [200.]\n",
            " [200.]\n",
            " [200.]\n",
            " [200.]\n",
            " [200.]\n",
            " [200.]\n",
            " [200.]\n",
            " [200.]\n",
            " [200.]\n",
            " [200.]\n",
            " [200.]\n",
            " [200.]\n",
            " [200.]\n",
            " [200.]\n",
            " [200.]\n",
            " [200.]\n",
            " [200.]\n",
            " [200.]]\n"
          ]
        }
      ],
      "source": [
        "p, n = 10, 20\n",
        "M = np.ones((p,n,n))\n",
        "V = np.ones((p,n,1))\n",
        "S = np.tensordot(M, V, axes=[[0, 2], [0, 1]])\n",
        "print(S)"
      ]
    },
    {
      "cell_type": "markdown",
      "metadata": {
        "id": "D8Xi8WrQukbh"
      },
      "source": [
        "#### 87. Consider a 16x16 array, how to get the block-sum (block size is 4x4)? (★★★) \n",
        "(**hint**: np.add.reduceat)"
      ]
    },
    {
      "cell_type": "code",
      "execution_count": 19,
      "metadata": {
        "id": "UyFeeKnwukbi",
        "colab": {
          "base_uri": "https://localhost:8080/"
        },
        "outputId": "837fbe4a-5be1-46f9-ed7a-36a19e84591b"
      },
      "outputs": [
        {
          "output_type": "stream",
          "name": "stdout",
          "text": [
            "[[16. 16. 16. 16.]\n",
            " [16. 16. 16. 16.]\n",
            " [16. 16. 16. 16.]\n",
            " [16. 16. 16. 16.]]\n"
          ]
        }
      ],
      "source": [
        "r = np.ones((16,16))\n",
        "k = 4\n",
        "S = np.add.reduceat(np.add.reduceat(r, np.arange(0, r.shape[0], k), axis=0),\n",
        "                                       np.arange(0, r.shape[1], k), axis=1)\n",
        "print(S)"
      ]
    },
    {
      "cell_type": "markdown",
      "metadata": {
        "id": "b44H66jRukbi"
      },
      "source": [
        "#### 88. How to implement the Game of Life using numpy arrays? (★★★)"
      ]
    },
    {
      "cell_type": "code",
      "execution_count": 18,
      "metadata": {
        "id": "-aQIg0Ntukbi",
        "colab": {
          "base_uri": "https://localhost:8080/"
        },
        "outputId": "27697fef-0df7-4b15-9349-f35865736dc2"
      },
      "outputs": [
        {
          "output_type": "stream",
          "name": "stdout",
          "text": [
            "[[0 0 0 ... 0 0 0]\n",
            " [0 0 0 ... 0 0 0]\n",
            " [0 0 0 ... 0 0 0]\n",
            " ...\n",
            " [0 0 0 ... 0 0 0]\n",
            " [0 0 0 ... 0 0 0]\n",
            " [0 0 0 ... 0 0 0]]\n"
          ]
        }
      ],
      "source": [
        "def iterate(Z):\n",
        "    N = (Z[0:-2,0:-2] + Z[0:-2,1:-1] + Z[0:-2,2:] +\n",
        "         Z[1:-1,0:-2]                + Z[1:-1,2:] +\n",
        "         Z[2:  ,0:-2] + Z[2:  ,1:-1] + Z[2:  ,2:])\n",
        "\n",
        "    birth = (N==3) & (Z[1:-1,1:-1]==0)\n",
        "    survive = ((N==2) | (N==3)) & (Z[1:-1,1:-1]==1)\n",
        "    Z[...] = 0\n",
        "    Z[1:-1,1:-1][birth | survive] = 1\n",
        "    return Z\n",
        "\n",
        "Z = np.random.randint(0,2,(50,50))\n",
        "for i in range(100): Z = iterate(Z)\n",
        "print(Z)"
      ]
    },
    {
      "cell_type": "markdown",
      "metadata": {
        "id": "DWwDhI6gukbi"
      },
      "source": [
        "#### 89. How to get the n largest values of an array (★★★) \n",
        "(**hint**: np.argsort | np.argpartition)"
      ]
    },
    {
      "cell_type": "code",
      "execution_count": 17,
      "metadata": {
        "id": "Tl64ntYgukbi",
        "colab": {
          "base_uri": "https://localhost:8080/"
        },
        "outputId": "eebe9814-f3cc-4bfc-d781-3fc3f4c7cdb1"
      },
      "outputs": [
        {
          "output_type": "stream",
          "name": "stdout",
          "text": [
            "[9995 9996 9997 9998 9999]\n",
            "[9997 9999 9998 9996 9995]\n"
          ]
        }
      ],
      "source": [
        "M = np.arange(10000)\n",
        "np.random.shuffle(M)\n",
        "n = 5\n",
        "\n",
        "# Slow\n",
        "print (M[np.argsort(M)[-n:]])\n",
        "\n",
        "# Fast\n",
        "print (M[np.argpartition(-M,n)[:n]])"
      ]
    },
    {
      "cell_type": "markdown",
      "metadata": {
        "id": "9l9euE7Lukbi"
      },
      "source": [
        "#### 90. Given an arbitrary number of vectors, build the cartesian product (every combinations of every item) (★★★) \n",
        "(**hint**: np.indices)"
      ]
    },
    {
      "cell_type": "code",
      "execution_count": 16,
      "metadata": {
        "scrolled": true,
        "id": "b5aggfbtukbi",
        "colab": {
          "base_uri": "https://localhost:8080/"
        },
        "outputId": "b2d89a56-402c-46f9-a22e-2764efbffddc"
      },
      "outputs": [
        {
          "output_type": "stream",
          "name": "stdout",
          "text": [
            "[[1 4 6]\n",
            " [1 4 7]\n",
            " [1 4 8]\n",
            " [1 5 6]\n",
            " [1 5 7]\n",
            " [1 5 8]\n",
            " [2 4 6]\n",
            " [2 4 7]\n",
            " [2 4 8]\n",
            " [2 5 6]\n",
            " [2 5 7]\n",
            " [2 5 8]\n",
            " [3 4 6]\n",
            " [3 4 7]\n",
            " [3 4 8]\n",
            " [3 5 6]\n",
            " [3 5 7]\n",
            " [3 5 8]]\n"
          ]
        }
      ],
      "source": [
        "def cartesian(arrays):\n",
        "    arrays = [np.asarray(a) for a in arrays]\n",
        "    shape = (len(x) for x in arrays)\n",
        "\n",
        "    ix = np.indices(shape, dtype=int)\n",
        "    ix = ix.reshape(len(arrays), -1).T\n",
        "\n",
        "    for n, arr in enumerate(arrays):\n",
        "        ix[:, n] = arrays[n][ix[:, n]]\n",
        "\n",
        "    return ix\n",
        "\n",
        "print (cartesian(([1, 2, 3], [4, 5], [6, 7,8])))"
      ]
    },
    {
      "cell_type": "markdown",
      "metadata": {
        "id": "z5ILsycdukbi"
      },
      "source": [
        "#### 91. How to create a record array from a regular array? (★★★) \n",
        "(**hint**: np.core.records.fromarrays)"
      ]
    },
    {
      "cell_type": "code",
      "execution_count": 15,
      "metadata": {
        "id": "gNX1p2Lcukbi",
        "colab": {
          "base_uri": "https://localhost:8080/"
        },
        "outputId": "d1cc66e0-7f7f-4422-a42d-6f5a35d49679"
      },
      "outputs": [
        {
          "output_type": "stream",
          "name": "stdout",
          "text": [
            "[[0 1 0]\n",
            " [3 1 0]\n",
            " [1 3 4]\n",
            " [1 3 1]\n",
            " [1 4 4]\n",
            " [0 2 3]\n",
            " [0 4 3]\n",
            " [0 4 2]\n",
            " [3 2 0]\n",
            " [4 0 3]]\n",
            "[(b'GOOD', 2. , 3) (b'World', 0.5, 2)]\n"
          ]
        }
      ],
      "source": [
        "K = np.array([(\"GOOD\", 2, 3),\n",
        "              (\"World\", 0.5, 2)])\n",
        "print(Z)\n",
        "R = np.core.records.fromarrays(K.T, \n",
        "                               names='col1, col2, col3',\n",
        "                               formats = 'S8, f8, i8')\n",
        "print(R)"
      ]
    },
    {
      "cell_type": "markdown",
      "metadata": {
        "id": "3gT8_bwRukbi"
      },
      "source": [
        "#### 92. Consider a large vector Z, compute Z to the power of 3 using 3 different methods (★★★) \n",
        "(**hint**: np.power, \\*, np.einsum)"
      ]
    },
    {
      "cell_type": "code",
      "execution_count": 13,
      "metadata": {
        "id": "5Bh2Mg9aukbi",
        "colab": {
          "base_uri": "https://localhost:8080/"
        },
        "outputId": "9769083b-2bca-4017-d2aa-66fa56a6a581"
      },
      "outputs": [
        {
          "output_type": "stream",
          "name": "stdout",
          "text": [
            "3.84 s ± 156 ms per loop (mean ± std. dev. of 7 runs, 1 loop each)\n",
            "155 ms ± 34.6 ms per loop (mean ± std. dev. of 7 runs, 10 loops each)\n",
            "125 ms ± 8.48 ms per loop (mean ± std. dev. of 7 runs, 10 loops each)\n"
          ]
        }
      ],
      "source": [
        "x = np.random.rand(int(5e7))\n",
        "\n",
        "%timeit np.power(x,3)\n",
        "%timeit x*x*x\n",
        "%timeit np.einsum('i,i,i->i',x,x,x)"
      ]
    },
    {
      "cell_type": "markdown",
      "metadata": {
        "id": "xPim_Fswukbj"
      },
      "source": [
        "#### 93. Consider two arrays A and B of shape (8,3) and (2,2). How to find rows of A that contain elements of each row of B regardless of the order of the elements in B? (★★★) \n",
        "(**hint**: np.where)"
      ]
    },
    {
      "cell_type": "code",
      "execution_count": 11,
      "metadata": {
        "id": "DibtybSPukbj",
        "colab": {
          "base_uri": "https://localhost:8080/"
        },
        "outputId": "933fbef7-4164-4c0b-91a2-ab5889cc991a"
      },
      "outputs": [
        {
          "output_type": "stream",
          "name": "stdout",
          "text": [
            "[0 1 2 3 6]\n"
          ]
        }
      ],
      "source": [
        "A = np.random.randint(0,5,(8,3))\n",
        "B = np.random.randint(0,5,(2,2))\n",
        "\n",
        "C = (A[..., np.newaxis, np.newaxis] == B)\n",
        "rows = np.where(C.any((3,1)).all(1))[0]\n",
        "print(rows)"
      ]
    },
    {
      "cell_type": "markdown",
      "metadata": {
        "id": "aelBIJfwukbj"
      },
      "source": [
        "#### 94. Considering a 10x3 matrix, extract rows with unequal values (e.g. \\[2,2,3\\]) (★★★)"
      ]
    },
    {
      "cell_type": "code",
      "execution_count": 10,
      "metadata": {
        "id": "wU63acbhukbj",
        "colab": {
          "base_uri": "https://localhost:8080/"
        },
        "outputId": "bcf04215-e495-4a1c-d844-3afd2bb54085"
      },
      "outputs": [
        {
          "output_type": "stream",
          "name": "stdout",
          "text": [
            "[[0 1 0]\n",
            " [3 1 0]\n",
            " [1 3 4]\n",
            " [1 3 1]\n",
            " [1 4 4]\n",
            " [0 2 3]\n",
            " [0 4 3]\n",
            " [0 4 2]\n",
            " [3 2 0]\n",
            " [4 0 3]]\n",
            "[[0 1 0]\n",
            " [3 1 0]\n",
            " [1 3 4]\n",
            " [1 3 1]\n",
            " [1 4 4]\n",
            " [0 2 3]\n",
            " [0 4 3]\n",
            " [0 4 2]\n",
            " [3 2 0]\n",
            " [4 0 3]]\n",
            "[[0 1 0]\n",
            " [3 1 0]\n",
            " [1 3 4]\n",
            " [1 3 1]\n",
            " [1 4 4]\n",
            " [0 2 3]\n",
            " [0 4 3]\n",
            " [0 4 2]\n",
            " [3 2 0]\n",
            " [4 0 3]]\n"
          ]
        }
      ],
      "source": [
        "Z = np.random.randint(0,5,(10,3))\n",
        "print(Z)\n",
        "\n",
        "E = np.all(Z[:,1:] == Z[:,:-1], axis=1)\n",
        "U = Z[~E]\n",
        "print(U)\n",
        "\n",
        "U = Z[Z.max(axis=1) != Z.min(axis=1),:]\n",
        "print(U)"
      ]
    },
    {
      "cell_type": "markdown",
      "metadata": {
        "id": "A_zriY_fukbj"
      },
      "source": [
        "#### 95. Convert a vector of ints into a matrix binary representation (★★★) \n",
        "(**hint**: np.unpackbits)"
      ]
    },
    {
      "cell_type": "code",
      "execution_count": 9,
      "metadata": {
        "id": "OI8Gbeg2ukbj",
        "colab": {
          "base_uri": "https://localhost:8080/"
        },
        "outputId": "7c843df1-afb6-44a2-e2a5-ee3b90033f3d"
      },
      "outputs": [
        {
          "output_type": "stream",
          "name": "stdout",
          "text": [
            "[[0 0 0 0 0 0 0 0]\n",
            " [0 0 0 0 0 0 0 1]\n",
            " [0 0 0 0 0 0 1 0]\n",
            " [0 0 0 0 0 0 1 1]\n",
            " [0 0 0 0 1 1 1 1]\n",
            " [0 0 0 1 0 0 0 0]\n",
            " [0 0 1 0 0 0 0 0]\n",
            " [0 1 0 0 0 0 0 0]\n",
            " [1 0 0 0 0 0 0 0]]\n",
            "[[0 0 0 0 0 0 0 0]\n",
            " [0 0 0 0 0 0 0 1]\n",
            " [0 0 0 0 0 0 1 0]\n",
            " [0 0 0 0 0 0 1 1]\n",
            " [0 0 0 0 1 1 1 1]\n",
            " [0 0 0 1 0 0 0 0]\n",
            " [0 0 1 0 0 0 0 0]\n",
            " [0 1 0 0 0 0 0 0]\n",
            " [1 0 0 0 0 0 0 0]]\n"
          ]
        }
      ],
      "source": [
        "I = np.array([0, 1, 2, 3, 15, 16, 32, 64, 128])\n",
        "B = ((I.reshape(-1,1) & (2**np.arange(8))) != 0).astype(int)\n",
        "print(B[:,::-1])\n",
        "I = np.array([0, 1, 2, 3, 15, 16, 32, 64, 128], dtype=np.uint8)\n",
        "print(np.unpackbits(I[:, np.newaxis], axis=1))"
      ]
    },
    {
      "cell_type": "markdown",
      "metadata": {
        "id": "Oz6BoF-Bukbj"
      },
      "source": [
        "#### 96. Given a two dimensional array, how to extract unique rows? (★★★) \n",
        "(**hint**: np.ascontiguousarray)"
      ]
    },
    {
      "cell_type": "code",
      "execution_count": 8,
      "metadata": {
        "id": "eh-tAoUUukbj",
        "colab": {
          "base_uri": "https://localhost:8080/"
        },
        "outputId": "0b176b1e-8688-4851-913a-29bf5a584625"
      },
      "outputs": [
        {
          "output_type": "stream",
          "name": "stdout",
          "text": [
            "[[0 0 0]\n",
            " [0 0 1]\n",
            " [1 0 1]\n",
            " [1 1 0]\n",
            " [1 1 1]]\n"
          ]
        }
      ],
      "source": [
        "Z = np.random.randint(0,2,(6,3))\n",
        "T = np.ascontiguousarray(Z).view(np.dtype((np.void, Z.dtype.itemsize * Z.shape[1])))\n",
        "_, idx = np.unique(T, return_index=True)\n",
        "uZ = Z[idx]\n",
        "print(uZ)"
      ]
    },
    {
      "cell_type": "markdown",
      "metadata": {
        "id": "yPPKA65zukbj"
      },
      "source": [
        "#### 97. Considering 2 vectors A & B, write the einsum equivalent of inner, outer, sum, and mul function (★★★) \n",
        "(**hint**: np.einsum)"
      ]
    },
    {
      "cell_type": "code",
      "execution_count": 7,
      "metadata": {
        "id": "S-blpU6jukbj",
        "colab": {
          "base_uri": "https://localhost:8080/"
        },
        "outputId": "88686581-a347-43ab-9b1a-ebab4dbfc1a4"
      },
      "outputs": [
        {
          "output_type": "execute_result",
          "data": {
            "text/plain": [
              "array([[0.57333558, 0.40918451, 0.6945053 , 0.14597474, 0.22061385],\n",
              "       [0.23679374, 0.16899759, 0.28683814, 0.06028913, 0.09111589],\n",
              "       [0.46837394, 0.33427432, 0.56736089, 0.11925087, 0.18022565],\n",
              "       [0.03137023, 0.02238866, 0.03800007, 0.00798705, 0.01207095],\n",
              "       [0.16038167, 0.11446297, 0.19427701, 0.04083415, 0.06171328]])"
            ]
          },
          "metadata": {},
          "execution_count": 7
        }
      ],
      "source": [
        "A = np.random.uniform(0,1,5)\n",
        "B = np.random.uniform(0,1,5)\n",
        "np.einsum('i->', A)      \n",
        "np.einsum('i,i->i', A, B) \n",
        "np.einsum('i,i', A, B)    \n",
        "np.einsum('i,j->ij', A, B)"
      ]
    },
    {
      "cell_type": "markdown",
      "source": [
        "98. Considering a path described by two vectors (X,Y), how to sample it using equidistant samples (★★★)?\n",
        "(hint: np.cumsum, np.interp)"
      ],
      "metadata": {
        "id": "yPzgQ5Fsnv3P"
      }
    },
    {
      "cell_type": "code",
      "execution_count": null,
      "metadata": {
        "id": "pzt7yLSEDVLN",
        "outputId": "8561ba5c-b19c-4671-e630-a1eb8bb09721",
        "colab": {
          "base_uri": "https://localhost:8080/"
        }
      },
      "outputs": [
        {
          "output_type": "execute_result",
          "data": {
            "text/plain": [
              "array([[0.44292207, 0.0480825 , 0.13693653, 0.12412905, 0.43582305,\n",
              "        0.27900389, 0.47228454, 0.44834292, 0.39886544, 0.47612833],\n",
              "       [0.72804086, 0.07903428, 0.22508562, 0.20403367, 0.71637204,\n",
              "        0.4586049 , 0.77630459, 0.73695122, 0.655624  , 0.78262272],\n",
              "       [0.42303628, 0.04592375, 0.13078852, 0.11855605, 0.41625599,\n",
              "        0.2664775 , 0.45108047, 0.42821375, 0.38095766, 0.45475169],\n",
              "       [0.15268378, 0.01657497, 0.04720466, 0.04278968, 0.15023662,\n",
              "        0.09617802, 0.16280559, 0.15455245, 0.13749661, 0.16413062],\n",
              "       [0.71682366, 0.07781657, 0.22161764, 0.20089005, 0.70533464,\n",
              "        0.451539  , 0.76434378, 0.72559674, 0.64552256, 0.77056456],\n",
              "       [0.12397809, 0.01345875, 0.03832983, 0.0347449 , 0.12199101,\n",
              "        0.07809584, 0.13219692, 0.12549544, 0.11164622, 0.13327284],\n",
              "       [0.5177939 , 0.0562104 , 0.16008437, 0.1451119 , 0.50949486,\n",
              "        0.32616688, 0.55211981, 0.52413109, 0.46628991, 0.55661336],\n",
              "       [0.63683377, 0.06913307, 0.19688747, 0.17847286, 0.62662679,\n",
              "        0.40115205, 0.67905115, 0.64462787, 0.57348911, 0.68457776],\n",
              "       [0.36438566, 0.03955679, 0.11265573, 0.10211919, 0.3585454 ,\n",
              "        0.22953251, 0.38854174, 0.36884531, 0.3281409 , 0.39170397],\n",
              "       [0.51764818, 0.05619458, 0.16003932, 0.14507106, 0.50935148,\n",
              "        0.3260751 , 0.55196444, 0.52398359, 0.46615869, 0.55645672]])"
            ]
          },
          "metadata": {},
          "execution_count": 102
        }
      ],
      "source": [
        "A = np.random.uniform(0,1,10)\n",
        "B = np.random.uniform(0,1,10)\n",
        "np.einsum('i->', A)      \n",
        "np.einsum('i,i->i', A, B) \n",
        "np.einsum('i,i', A, B)    \n",
        "np.einsum('i,j->ij', A, B)"
      ]
    },
    {
      "cell_type": "markdown",
      "metadata": {
        "id": "cm8Y3jg6ukbj"
      },
      "source": [
        "#### 98. Considering a path described by two vectors (X,Y), how to sample it using equidistant samples (★★★)? \n",
        "(**hint**: np.cumsum, np.interp)"
      ]
    },
    {
      "cell_type": "code",
      "execution_count": 6,
      "metadata": {
        "collapsed": true,
        "id": "lHg5LxTaukbk",
        "colab": {
          "base_uri": "https://localhost:8080/"
        },
        "outputId": "8d5e236c-11f8-4a76-8f79-bcbcdc7622e7"
      },
      "outputs": [
        {
          "output_type": "stream",
          "name": "stdout",
          "text": [
            "[  0.           0.09950042   0.19601332   0.28660095   0.3684244\n",
            "   0.43879128   0.49520137   0.53538953   0.55736537   0.55944897\n",
            "   0.54030231   0.49895573   0.43482931   0.34774848   0.237954\n",
            "   0.1061058   -0.04671924  -0.21903564  -0.40896377  -0.61425018\n",
            "  -0.83229367  -1.06017682  -1.29470246  -1.53243485  -1.76974492\n",
            "  -2.00285904  -2.22791076  -2.44099478  -2.63822255  -2.81577868\n",
            "  -2.96997749  -3.09731897  -3.19454328  -3.25868324  -3.28711385\n",
            "  -3.27759841  -3.2283303   -3.13797012  -3.00567731  -2.83113599\n",
            "  -2.61457448  -2.35677818  -2.05909545  -1.72343644  -1.35226463\n",
            "  -0.9485811   -0.51590162  -0.05822672   0.41999512   0.91391061\n",
            "   1.41831093   1.92768649   2.43628669   2.93818398   3.42734153\n",
            "   3.89768376   4.34316892   4.75786287   5.1360132    5.47212274\n",
            "   5.76102172   5.99793747   6.178561     6.29910941   6.35638348\n",
            "   6.34781957   6.27153511   6.12636709   5.91190293   5.62850319\n",
            "   5.27731578   4.86028133   4.38012946   3.84036588   3.24525022\n",
            "   2.59976488   1.9095748    1.18097874   0.42085228  -0.36341679\n",
            "  -1.16400027  -1.97270765  -2.78106986  -3.58042781  -4.36202469\n",
            "  -5.11710117  -5.83699241  -6.51322582  -7.13761852  -7.70237336\n",
            "  -8.20017236  -8.62426658  -8.96856132  -9.22769553  -9.3971146\n",
            "  -9.47313548  -9.45300342  -9.33493933  -9.11817747  -8.80299241\n",
            "  -8.39071529  -7.88373862  -7.28550965  -6.6005121   -5.83423628\n",
            "  -4.99313774  -4.08458482  -3.11679531  -2.09876299  -1.04017448\n",
            "   0.04868268   1.1570199    2.27365447   3.38712238   4.48579588\n",
            "   5.55800473   6.59215971   7.57687716   8.50110325   9.35423652\n",
            "  10.1262475   10.80779395  11.39033046  11.8662112   12.22878455\n",
            "  12.47247849  12.59287578  12.58677787  12.45225684  12.18869449\n",
            "  11.79680816  11.27866268  10.63766824   9.878564     9.00738732\n",
            "   8.03142895   6.9591743    5.80023126   4.56524532   3.26580248\n",
            "   1.91432105   0.52393323  -0.89164247  -2.31823644  -3.74136993\n",
            "  -5.14640187  -6.51867941  -7.84369048  -9.10721675 -10.29548549\n",
            " -11.39531869 -12.39427773 -13.28080214 -14.04434094 -14.67547492\n",
            " -15.16602867 -15.50917095 -15.69950221 -15.73312822 -15.60771894\n",
            " -15.32255169 -14.87853808 -14.27823434 -13.52583451 -12.62714655\n",
            " -11.58955145 -10.42194539  -9.13466558  -7.73940027  -6.24908366\n",
            "  -4.67777675  -3.04053512  -1.35326495   0.36743138   2.10441864\n",
            "   3.84019936   5.55709009   7.23740149   8.86362041  10.41859212\n",
            "  11.88570075  13.24904611  14.49361496  15.6054449   16.57177917\n",
            "  17.38121053  18.02381279  18.49125831  18.7769203   18.87595858\n",
            "  18.78538775  18.50412697  18.03303066  17.3748994   16.53447108\n",
            "  15.51839191  14.33516747  12.99509423  11.51017187   9.89399732\n",
            "   8.16164124   6.32950824   4.41518203   2.43725688   0.4151572\n",
            "  -1.63105313  -3.6808699   -5.713554    -7.70834118  -9.64465412\n",
            " -11.50231446 -13.26175272 -14.9042139  -16.41195663 -17.76844373\n",
            " -18.95852214 -19.96859034 -20.78675129 -21.40294938 -21.80908968\n",
            " -21.99913818 -21.96920183 -21.71758737 -21.24483813 -20.55374833\n",
            " -19.6493544  -18.53890336 -17.23179826 -15.73952118 -14.07553421\n",
            " -12.25515947 -10.29543901  -8.21497601  -6.03375864  -3.77296837\n",
            "  -1.45477441   0.89788356   3.2615224    5.6123499    7.92650424\n",
            "  10.18029618  12.35045135  14.41435043  16.35026444  18.13758293\n",
            "  19.7570326   21.19088398  22.42314406  23.43973275  24.2286412\n",
            "  24.7800703   25.08654775  25.14302233  24.94693422  24.49826054\n",
            "  23.79953536  22.85584389  21.67479057  20.26644137  18.64324051\n",
            "  16.81990238  14.81327959  12.64220817  10.32733155   7.89090473\n",
            "   5.35658069   2.74918094   0.09445254  -2.58118617  -5.25090838\n",
            "  -7.88774784 -10.46487118 -12.95585091 -15.33493623 -17.57731893\n",
            " -19.65939164 -21.55899571 -23.25565617 -24.7308012  -25.96796395\n",
            " -26.95296426 -27.67406854 -28.12212595 -28.2906792  -28.17604893\n",
            " -27.77739036 -27.09672162 -26.13892326 -24.91170863 -23.42556536\n",
            " -21.69366836 -19.73176483 -17.55803252 -15.19291234 -12.6589169\n",
            "  -9.98041672  -7.18340625  -4.29525175  -1.34442375   1.63978364\n",
            "   4.6275435    7.58879418  10.49354182  13.31216405  16.01571198\n",
            "  18.57620727  20.96693136  23.16270375  25.14014653  26.87793233\n",
            "  28.35701309  29.56082725  30.47548299  31.08991568  31.39601771] [ 0.00000000e+00  9.98334166e-03  3.97338662e-02  8.86560620e-02\n",
            "  1.55767337e-01  2.39712769e-01  3.38785484e-01  4.50952381e-01\n",
            "  5.73884873e-01  7.04994219e-01  8.41470985e-01  9.80328096e-01\n",
            "  1.11844690e+00  1.25262564e+00  1.37962962e+00  1.49624248e+00\n",
            "  1.59931776e+00  1.68583018e+00  1.75292574e+00  1.79797017e+00\n",
            "  1.81859485e+00  1.81273967e+00  1.77869209e+00  1.71512199e+00\n",
            "  1.62111163e+00  1.49618036e+00  1.34030357e+00  1.15392568e+00\n",
            "  9.37966820e-01  6.93823055e-01  4.23360024e-01  1.28900054e-01\n",
            " -1.86797259e-01 -5.20560791e-01 -8.68839747e-01 -1.22774130e+00\n",
            " -1.59307360e+00 -1.96039372e+00 -2.32505999e+00 -2.68228802e+00\n",
            " -3.02720998e+00 -3.35493616e+00 -3.66061824e+00 -3.93951353e+00\n",
            " -4.18704913e+00 -4.39888553e+00 -4.57097862e+00 -4.69963931e+00\n",
            " -4.78159012e+00 -4.81401780e+00 -4.79462137e+00 -4.72165488e+00\n",
            " -4.59396421e+00 -4.41101744e+00 -4.17292823e+00 -3.88047179e+00\n",
            " -3.53509317e+00 -3.13890759e+00 -2.69469264e+00 -2.20587232e+00\n",
            " -1.67649299e+00 -1.11119128e+00 -5.15154297e-01  1.05927573e-01\n",
            "  7.45914911e-01  1.39827992e+00  2.05617300e+00  2.71249447e+00\n",
            "  3.35997079e+00  3.99123437e+00  4.59890619e+00  5.17568018e+00\n",
            "  5.71440862e+00  6.20818733e+00  6.65043991e+00  7.03499983e+00\n",
            "  7.35618951e+00  7.60889540e+00  7.78863809e+00  7.89163660e+00\n",
            "  7.91486597e+00  7.85610747e+00  7.71399056e+00  7.48802622e+00\n",
            "  7.17863083e+00  6.78714046e+00  6.31581504e+00  5.76783230e+00\n",
            "  5.14727130e+00  4.45908562e+00  3.70906637e+00  2.90379510e+00\n",
            "  2.05058721e+00  1.15742614e+00  2.32888999e-01 -7.13935644e-01\n",
            " -1.67353710e+00 -2.63607808e+00 -3.59149547e+00 -4.52960535e+00\n",
            " -5.44021111e+00 -6.31321355e+00 -7.13872181e+00 -7.90716384e+00\n",
            " -8.60939528e+00 -9.23680548e+00 -9.78141947e+00 -1.02359947e+01\n",
            " -1.05941113e+01 -1.08502552e+01 -1.09998923e+01 -1.10395337e+01\n",
            " -1.09667906e+01 -1.07804175e+01 -1.04803452e+01 -1.00677000e+01\n",
            " -9.54481170e+00 -8.91520793e+00 -8.18359600e+00 -7.35583164e+00\n",
            " -6.43887502e+00 -5.44073432e+00 -4.37039724e+00 -3.23775103e+00\n",
            " -2.05349178e+00 -8.29023717e-01  4.23650395e-01  1.69204693e+00\n",
            "  2.96332576e+00  4.22442026e+00  5.46217148e+00  6.66346518e+00\n",
            "  7.81537039e+00  8.90527784e+00  9.92103693e+00  1.08510898e+01\n",
            "  1.16846007e+01  1.24115800e+01  1.30230002e+01  1.35109043e+01\n",
            "  1.38685030e+01  1.40902624e+01  1.41719785e+01  1.41108391e+01\n",
            "  1.39054720e+01  1.35559783e+01  1.30639511e+01  1.24324784e+01\n",
            "  1.16661306e+01  1.07709321e+01  9.75431760e+00  8.62507273e+00\n",
            "  7.39326007e+00  6.07013077e+00  4.66802269e+00  3.20024597e+00\n",
            "  1.68095698e+00  1.25021985e-01 -1.45212823e+00 -3.03465144e+00\n",
            " -4.60645307e+00 -6.15134982e+00 -7.65323618e+00 -9.09625202e+00\n",
            " -1.04649496e+01 -1.17444581e+01 -1.29206445e+01 -1.39802677e+01\n",
            " -1.49111262e+01 -1.57021958e+01 -1.63437574e+01 -1.68275116e+01\n",
            " -1.71466811e+01 -1.72960977e+01 -1.72722732e+01 -1.70734551e+01\n",
            " -1.66996632e+01 -1.61527094e+01 -1.54361988e+01 -1.45555123e+01\n",
            " -1.35177704e+01 -1.23317792e+01 -1.10079574e+01 -9.55824719e+00\n",
            " -7.99600745e+00 -6.33589144e+00 -4.59371011e+00 -2.78628178e+00\n",
            " -9.31270049e-01  9.52988800e-01  2.84766698e+00  4.73363337e+00\n",
            "  6.59164663e+00  8.40255146e+00  1.01474758e+01  1.18080275e+01\n",
            "  1.33664870e+01  1.48059963e+01  1.61107400e+01  1.72661176e+01\n",
            "  1.82589050e+01  1.90774035e+01  1.97115745e+01  2.01531580e+01\n",
            "  2.03957752e+01  2.04350108e+01  2.02684779e+01  1.98958614e+01\n",
            "  1.93189409e+01  1.85415923e+01  1.75697684e+01  1.64114568e+01\n",
            "  1.50766179e+01  1.35771013e+01  1.19265421e+01  1.01402386e+01\n",
            "  8.23501062e+00  6.22904253e+00  4.14170953e+00  1.99339091e+00\n",
            " -1.94728804e-01 -2.40086876e+00 -4.60286854e+00 -6.77841078e+00\n",
            " -8.90524730e+00 -1.09614265e+01 -1.29255198e+01 -1.47768443e+01\n",
            " -1.64956804e+01 -1.80634807e+01 -1.94630693e+01 -2.06788282e+01\n",
            " -2.16968700e+01 -2.25051940e+01 -2.30938241e+01 -2.34549277e+01\n",
            " -2.35829134e+01 -2.34745068e+01 -2.31288030e+01 -2.25472954e+01\n",
            " -2.17338807e+01 -2.06948388e+01 -1.94387886e+01 -1.79766196e+01\n",
            " -1.63213996e+01 -1.44882595e+01 -1.24942561e+01 -1.03582146e+01\n",
            " -8.10055113e+00 -5.74307808e+00 -3.30879375e+00 -8.21658021e-01\n",
            "  1.69364343e+00  4.21194409e+00  6.70784844e+00  9.15598803e+00\n",
            "  1.15312792e+01  1.38091801e+01  1.59659436e+01  1.79788649e+01\n",
            "  1.98265197e+01  2.14889913e+01  2.29480843e+01  2.41875221e+01\n",
            "  2.51931265e+01  2.59529775e+01  2.64575510e+01  2.66998329e+01\n",
            "  2.66754096e+01  2.63825314e+01  2.58221501e+01  2.49979293e+01\n",
            "  2.39162273e+01  2.25860517e+01  2.10189881e+01  1.92291009e+01\n",
            "  1.72328089e+01  1.50487360e+01  1.26975380e+01  1.02017081e+01\n",
            "  7.58536207e+00  4.87400556e+00  2.09428557e+00 -7.26271386e-01\n",
            " -3.55953178e+00 -6.37703575e+00 -9.15028291e+00 -1.18510207e+01\n",
            " -1.44515319e+01 -1.69249191e+01 -1.92453826e+01 -2.13884889e+01\n",
            " -2.33314272e+01 -2.50532516e+01 -2.65351055e+01 -2.77604265e+01\n",
            " -2.87151297e+01 -2.93877664e+01 -2.97696578e+01 -2.98550014e+01\n",
            " -2.96409487e+01 -2.91276536e+01 -2.83182906e+01 -2.72190427e+01\n",
            " -2.58390590e+01 -2.41903808e+01 -2.22878395e+01 -2.01489244e+01\n",
            " -1.77936234e+01 -1.52442367e+01 -1.25251670e+01 -9.66268557e+00\n",
            " -6.68467926e+00 -3.62037882e+00 -5.00072086e-01] [0.00000000e+00 1.00000000e-01 2.00994225e-01 3.03948099e-01\n",
            " 4.09773428e-01 5.19310334e-01 6.33316917e-01 7.52465988e-01\n",
            " 8.77347271e-01 1.00847317e+00 1.14628646e+00 1.29116861e+00\n",
            " 1.44344797e+00 1.60340735e+00 1.77129076e+00 1.94730924e+00\n",
            " 2.13164591e+00 2.32446017e+00 2.52589132e+00 2.73606151e+00\n",
            " 2.95507828e+00 3.18303664e+00 3.42002084e+00 3.66610588e+00\n",
            " 3.92135873e+00 4.18583938e+00 4.45960178e+00 4.74269456e+00\n",
            " 5.03516168e+00 5.33704304e+00 5.64837490e+00 5.96919031e+00\n",
            " 6.29951948e+00 6.63939009e+00 6.98882753e+00 7.34785520e+00\n",
            " 7.71649464e+00 8.09476576e+00 8.48268698e+00 8.88027538e+00\n",
            " 9.28754684e+00 9.70451612e+00 1.01311970e+01 1.05676022e+01\n",
            " 1.10137439e+01 1.14696332e+01 1.19352807e+01 1.24106962e+01\n",
            " 1.28958890e+01 1.33908678e+01 1.38956409e+01 1.44102161e+01\n",
            " 1.49346005e+01 1.54688013e+01 1.60128248e+01 1.65666773e+01\n",
            " 1.71303646e+01 1.77038924e+01 1.82872658e+01 1.88804900e+01\n",
            " 1.94835697e+01 2.00965094e+01 2.07193135e+01 2.13519861e+01\n",
            " 2.19945311e+01 2.26469523e+01 2.33092533e+01 2.39814376e+01\n",
            " 2.46635083e+01 2.53554686e+01 2.60573216e+01 2.67690702e+01\n",
            " 2.74907170e+01 2.82222648e+01 2.89637160e+01 2.97150732e+01\n",
            " 3.04763387e+01 3.12475148e+01 3.20286035e+01 3.28196071e+01\n",
            " 3.36205275e+01 3.44313667e+01 3.52521266e+01 3.60828088e+01\n",
            " 3.69234153e+01 3.77739476e+01 3.86344073e+01 3.95047962e+01\n",
            " 4.03851155e+01 4.12753669e+01 4.21755518e+01 4.30856714e+01\n",
            " 4.40057271e+01 4.49357203e+01 4.58756521e+01 4.68255237e+01\n",
            " 4.77853363e+01 4.87550910e+01 4.97347890e+01 5.07244312e+01\n",
            " 5.17240188e+01 5.27335526e+01 5.37530338e+01 5.47824631e+01\n",
            " 5.58218416e+01 5.68711701e+01 5.79304495e+01 5.89996806e+01\n",
            " 6.00788642e+01 6.11680012e+01 6.22670923e+01 6.33761382e+01\n",
            " 6.44951397e+01 6.56240975e+01 6.67630122e+01 6.79118847e+01\n",
            " 6.90707154e+01 7.02395051e+01 7.14182544e+01 7.26069639e+01\n",
            " 7.38056341e+01 7.50142658e+01 7.62328593e+01 7.74614153e+01\n",
            " 7.86999344e+01 7.99484170e+01 8.12068636e+01 8.24752748e+01\n",
            " 8.37536510e+01 8.50419928e+01 8.63403005e+01 8.76485747e+01\n",
            " 8.89668157e+01 9.02950241e+01 9.16332002e+01 9.29813445e+01\n",
            " 9.43394574e+01 9.57075392e+01 9.70855903e+01 9.84736112e+01\n",
            " 9.98716023e+01 1.01279564e+02 1.02697496e+02 1.04125400e+02\n",
            " 1.05563275e+02 1.07011121e+02 1.08468941e+02 1.09936732e+02\n",
            " 1.11414496e+02 1.12902234e+02 1.14399945e+02 1.15907630e+02\n",
            " 1.17425288e+02 1.18952921e+02 1.20490529e+02 1.22038111e+02\n",
            " 1.23595669e+02 1.25163202e+02 1.26740711e+02 1.28328195e+02\n",
            " 1.29925656e+02 1.31533093e+02 1.33150507e+02 1.34777897e+02\n",
            " 1.36415265e+02 1.38062610e+02 1.39719933e+02 1.41387233e+02\n",
            " 1.43064512e+02 1.44751768e+02 1.46449003e+02 1.48156217e+02\n",
            " 1.49873409e+02 1.51600581e+02 1.53337731e+02 1.55084861e+02\n",
            " 1.56841971e+02 1.58609060e+02 1.60386130e+02 1.62173179e+02\n",
            " 1.63970209e+02 1.65777219e+02 1.67594210e+02 1.69421182e+02\n",
            " 1.71258134e+02 1.73105068e+02 1.74961983e+02 1.76828879e+02\n",
            " 1.78705758e+02 1.80592617e+02 1.82489459e+02 1.84396283e+02\n",
            " 1.86313089e+02 1.88239877e+02 1.90176648e+02 1.92123401e+02\n",
            " 1.94080137e+02 1.96046856e+02 1.98023558e+02 2.00010243e+02\n",
            " 2.02006911e+02 2.04013563e+02 2.06030198e+02 2.08056817e+02\n",
            " 2.10093420e+02 2.12140006e+02 2.14196577e+02 2.16263131e+02\n",
            " 2.18339670e+02 2.20426193e+02 2.22522701e+02 2.24629193e+02\n",
            " 2.26745669e+02 2.28872131e+02 2.31008577e+02 2.33155008e+02\n",
            " 2.35311425e+02 2.37477826e+02 2.39654213e+02 2.41840585e+02\n",
            " 2.44036942e+02 2.46243285e+02 2.48459614e+02 2.50685929e+02\n",
            " 2.52922229e+02 2.55168515e+02 2.57424787e+02 2.59691045e+02\n",
            " 2.61967290e+02 2.64253520e+02 2.66549737e+02 2.68855941e+02\n",
            " 2.71172130e+02 2.73498307e+02 2.75834470e+02 2.78180620e+02\n",
            " 2.80536756e+02 2.82902880e+02 2.85278991e+02 2.87665088e+02\n",
            " 2.90061173e+02 2.92467244e+02 2.94883304e+02 2.97309350e+02\n",
            " 2.99745384e+02 3.02191405e+02 3.04647414e+02 3.07113410e+02\n",
            " 3.09589394e+02 3.12075366e+02 3.14571326e+02 3.17077273e+02\n",
            " 3.19593208e+02 3.22119132e+02 3.24655043e+02 3.27200943e+02\n",
            " 3.29756830e+02 3.32322706e+02 3.34898570e+02 3.37484423e+02\n",
            " 3.40080264e+02 3.42686093e+02 3.45301911e+02 3.47927718e+02\n",
            " 3.50563513e+02 3.53209297e+02 3.55865069e+02 3.58530831e+02\n",
            " 3.61206581e+02 3.63892320e+02 3.66588048e+02 3.69293765e+02\n",
            " 3.72009471e+02 3.74735166e+02 3.77470850e+02 3.80216524e+02\n",
            " 3.82972187e+02 3.85737839e+02 3.88513480e+02 3.91299111e+02\n",
            " 3.94094731e+02 3.96900341e+02 3.99715940e+02 4.02541528e+02\n",
            " 4.05377107e+02 4.08222675e+02 4.11078232e+02 4.13943780e+02\n",
            " 4.16819317e+02 4.19704844e+02 4.22600361e+02 4.25505868e+02\n",
            " 4.28421365e+02 4.31346851e+02 4.34282328e+02 4.37227795e+02\n",
            " 4.40183252e+02 4.43148699e+02 4.46124136e+02 4.49109564e+02\n",
            " 4.52104982e+02 4.55110390e+02 4.58125788e+02 4.61151177e+02\n",
            " 4.64186556e+02 4.67231925e+02 4.70287286e+02 4.73352636e+02\n",
            " 4.76427977e+02 4.79513309e+02 4.82608631e+02 4.85713944e+02\n",
            " 4.88829248e+02 4.91954542e+02 4.95089827e+02]\n"
          ]
        }
      ],
      "source": [
        "phi = np.arange(0, 10*np.pi, 0.1)\n",
        "a = 1\n",
        "x = a*phi*np.cos(phi)\n",
        "y = a*phi*np.sin(phi)\n",
        "dr = (np.diff(x)**2 + np.diff(y)**2)**.5\n",
        "r = np.zeros_like(x)\n",
        "r[1:] = np.cumsum(dr)               \n",
        "r_int = np.linspace(0, r.max(), 200)\n",
        "x_int = np.interp(r_int, r, x)       \n",
        "y_int = np.interp(r_int, r, y)\n",
        "print(x,y,r)"
      ]
    },
    {
      "cell_type": "markdown",
      "metadata": {
        "id": "I5pih55oukbk"
      },
      "source": [
        "#### 99. Given an integer n and a 2D array X, select from X the rows which can be interpreted as draws from a multinomial distribution with n degrees, i.e., the rows which only contain integers and which sum to n. (★★★) \n",
        "(**hint**: np.logical\\_and.reduce, np.mod)"
      ]
    },
    {
      "cell_type": "code",
      "execution_count": 5,
      "metadata": {
        "id": "Jk6nL4dvukbk",
        "colab": {
          "base_uri": "https://localhost:8080/"
        },
        "outputId": "0c94843b-2e8a-47e5-c9b6-dc7623f56963"
      },
      "outputs": [
        {
          "output_type": "stream",
          "name": "stdout",
          "text": [
            "[[2. 0. 1. 1.]]\n"
          ]
        }
      ],
      "source": [
        "X = np.asarray([[1.0, 2.0, 3.0, 4.0],\n",
        "                [2.0, 0.0, 1.0, 1.0],\n",
        "                [1.5, 2.5, 1.0, 3.0]])\n",
        "n = 4\n",
        "M = np.logical_and.reduce(np.mod(X, 1) == 0, axis=-1)\n",
        "M &= (X.sum(axis=-1) == n)\n",
        "print(X[M])"
      ]
    },
    {
      "cell_type": "markdown",
      "metadata": {
        "id": "tMVm3ptQukbk"
      },
      "source": [
        "#### 100. Compute bootstrapped 95% confidence intervals for the mean of a 1D array X (i.e., resample the elements of an array with replacement N times, compute the mean of each sample, and then compute percentiles over the means). (★★★) \n",
        "(**hint**: np.percentile)"
      ]
    },
    {
      "cell_type": "code",
      "source": [
        "import numpy as np\n",
        "X = np.random.randn(27) # random 1D array\n",
        "N = 279 # number of bootstrap samples\n",
        "idx = np.random.randint(0, X.size, (N, X.size))\n",
        "means = X[idx].mean(axis=1)\n",
        "confint = np.percentile(means, [2.5, 97.5])\n",
        "print(confint)"
      ],
      "metadata": {
        "colab": {
          "base_uri": "https://localhost:8080/"
        },
        "id": "xUYpGsGKmj-0",
        "outputId": "8355620c-664c-4f87-b480-3a198ffc45f8"
      },
      "execution_count": 2,
      "outputs": [
        {
          "output_type": "stream",
          "name": "stdout",
          "text": [
            "[-0.31874683  0.23846493]\n"
          ]
        }
      ]
    }
  ],
  "metadata": {
    "kernelspec": {
      "display_name": "Python 3",
      "language": "python",
      "name": "python3"
    },
    "language_info": {
      "codemirror_mode": {
        "name": "ipython",
        "version": 3
      },
      "file_extension": ".py",
      "mimetype": "text/x-python",
      "name": "python",
      "nbconvert_exporter": "python",
      "pygments_lexer": "ipython3",
      "version": "3.8.3"
    },
    "colab": {
      "provenance": [],
      "collapsed_sections": [
        "ukDDiruVukbI",
        "gZETDkZaukbI",
        "FdbaDHaFukbJ",
        "LinJ7oic2hOG",
        "7unZkyudukbJ",
        "r0e8FXYiukbK",
        "f3dFJdabukbK",
        "VDMEpsRfukbK",
        "x236siDGukbL",
        "BH4pgJp2ukbL",
        "NCamO1cUukbM",
        "0uCBCVWhukbM",
        "lXj518wnukbN",
        "50d0OMr7ukbN",
        "94Exbxg0ukbN",
        "MnEAmJrqukbO",
        "6jToFq2xukbO",
        "O8Jqe41bukbO",
        "89Oj94FdukbO",
        "VOmq8iCHukbP",
        "yTZM80g6ukbP",
        "UAtDXmF_ukbQ",
        "1TC_9cddukbQ",
        "A-Pp-dg9ukbQ",
        "uJ34zefCukbQ",
        "5Y9fmuhfukbR",
        "lbIAW-jkukbR",
        "WdF734PmukbR",
        "yZVRzc8KukbR",
        "Dr0WEtm9ukbS",
        "HMZLuaI-ukbS",
        "ulxITkYjukbS",
        "0Xp4xgl7ukbT",
        "FEf-f0TfukbT",
        "el4H81VIukbT",
        "0vVWwa5tukbT",
        "gojf1EY-ukbU",
        "0vqUMb-pukbU",
        "PULcpyNsukbU",
        "sRLrIiC-ukbU",
        "-52KTmHBukbV",
        "MdijdXFSukbV",
        "HtinUqkOukbV",
        "dcq0vqu4ukbV",
        "ZFkOM5DVukbV",
        "4QOycfrEukbW",
        "8qEIV6QEukbW",
        "0mps8_W4ukbX",
        "7_jZycLBukbX",
        "S3ej9Gl6ukbX",
        "5O-2r9YZukbX",
        "nIkVpZMjukbX",
        "_IkbWsysukbY",
        "et42_RvmukbY",
        "AI0OP_28ukbY",
        "ZEcB-Xv6ukbY",
        "v0lzhaaqukbZ",
        "8Z1qewJgukbZ",
        "fW1W8UylukbZ",
        "6rFv8-OeukbZ",
        "Z2eo04fvukba",
        "-QrTjXL-ukba",
        "m7bfQAIKukbb",
        "y0twbr73ukbb",
        "qunqx7P5ukbc",
        "5o1ggswrukbc",
        "kgm1CEBTukbd",
        "ZxJmPCkGukbd",
        "7wtKg4g7ukbe",
        "YdGEyz-Tukbe",
        "UMBMExq-ukbe",
        "0k31Tvb6ukbf",
        "aed-vogAukbf",
        "VsZKPenCukbg",
        "mWDLm_n0ukbg",
        "gSbt7CYVukbg",
        "dbSk60gOukbh",
        "JGwUbt0Fukbh",
        "-AJxsiijukbh",
        "D8Xi8WrQukbh",
        "b44H66jRukbi",
        "DWwDhI6gukbi",
        "9l9euE7Lukbi",
        "z5ILsycdukbi",
        "3gT8_bwRukbi",
        "xPim_Fswukbj",
        "aelBIJfwukbj",
        "A_zriY_fukbj",
        "Oz6BoF-Bukbj",
        "yPPKA65zukbj",
        "cm8Y3jg6ukbj",
        "I5pih55oukbk",
        "tMVm3ptQukbk"
      ]
    }
  },
  "nbformat": 4,
  "nbformat_minor": 0
}